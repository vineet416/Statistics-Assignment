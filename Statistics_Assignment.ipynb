{
 "cells": [
  {
   "cell_type": "markdown",
   "id": "98baa378-2d55-484b-b5e3-f3881259d6af",
   "metadata": {},
   "source": [
    "# Statistics Assignment\n",
    "# Practice Questions by PW Skills Data Analytics Course"
   ]
  },
  {
   "cell_type": "code",
   "execution_count": 1,
   "id": "fe4540a0-5ab8-4044-a53c-540e8fa96aad",
   "metadata": {},
   "outputs": [],
   "source": [
    "import numpy as np \n",
    "import pandas as pd\n",
    "import seaborn as sns\n",
    "import scipy.stats as stats\n",
    "import math\n",
    "import matplotlib.pyplot as plt"
   ]
  },
  {
   "cell_type": "markdown",
   "id": "e54d78a8-ddd7-4a00-92a5-11d3ad34f75a",
   "metadata": {},
   "source": [
    "# 1. Generate a list of 100 integers containing values between 90 to 130 and store it in the variable `int_list`. After generating the list, find the following:"
   ]
  },
  {
   "cell_type": "code",
   "execution_count": 2,
   "id": "e2d9612d-cb48-445a-b5cd-37bcc632fcd4",
   "metadata": {},
   "outputs": [],
   "source": [
    "int_list = np.random.randint(90,130,100)"
   ]
  },
  {
   "cell_type": "code",
   "execution_count": 3,
   "id": "0bd0b674-2226-4d0c-9471-313a8bf45589",
   "metadata": {},
   "outputs": [
    {
     "data": {
      "text/plain": [
       "array([116, 114, 114, 120, 126, 119,  91, 100, 120,  95, 119,  93, 101,\n",
       "       123, 127, 106, 115, 124, 113,  97, 100, 102, 103, 119,  98, 118,\n",
       "       115, 115, 105, 109, 119, 129, 104, 124,  90,  93, 103,  95, 114,\n",
       "       122,  90,  95, 102,  90,  98, 125, 116, 113,  99, 114, 105, 123,\n",
       "       126,  94, 128, 118,  96, 126, 108,  97,  95,  97,  94, 128, 111,\n",
       "       110, 118, 103,  98, 112, 128, 106, 109, 102, 113, 123, 109, 111,\n",
       "       102,  98, 107,  97, 127,  95, 108, 101, 111,  95, 127,  92,  99,\n",
       "        97,  92,  91,  96,  97, 120, 109, 112,  95])"
      ]
     },
     "execution_count": 3,
     "metadata": {},
     "output_type": "execute_result"
    }
   ],
   "source": [
    "int_list"
   ]
  },
  {
   "cell_type": "markdown",
   "id": "0ef9e03f-e314-47e0-afe5-71cc0635c6df",
   "metadata": {},
   "source": [
    "##   (i) Write a Python function to calculate the mean of a given list of numbers.\n",
    "## Create a function to find the median of a list of numbers."
   ]
  },
  {
   "cell_type": "code",
   "execution_count": 4,
   "id": "3f8bd4ec-1cf8-48f2-84bd-db9fff02d7ee",
   "metadata": {},
   "outputs": [
    {
     "name": "stdout",
     "output_type": "stream",
     "text": [
      "mean = 108.08\n"
     ]
    }
   ],
   "source": [
    "# Creating Python function to calculate the mean\n",
    "def calculate_mean(lst):\n",
    "    sum = 0\n",
    "    count = 0\n",
    "    \n",
    "    for i in lst:\n",
    "        sum += i\n",
    "        count += 1\n",
    "        \n",
    "    mean = sum / count\n",
    "    \n",
    "    return mean\n",
    "\n",
    "# Calculating mean of int_list\n",
    "print(f\"mean = {calculate_mean(int_list)}\")"
   ]
  },
  {
   "cell_type": "code",
   "execution_count": 5,
   "id": "406ed417-9335-4eb0-adc7-ce212b43f570",
   "metadata": {},
   "outputs": [
    {
     "name": "stdout",
     "output_type": "stream",
     "text": [
      "median =  108.0\n"
     ]
    }
   ],
   "source": [
    "# Creating Python function to calculate the median\n",
    "def calculate_median(lst):\n",
    "    lst = sorted(lst)\n",
    "    n = len(lst)\n",
    "    \n",
    "    if n % 2 == 1:\n",
    "        # If the length of the list is odd, the median is the middle value\n",
    "        median = lst[n//2]\n",
    "    else:\n",
    "        # If the length of the list is even, the median is the average of the two middle values\n",
    "        median = (lst[n // 2 - 1] + lst[n // 2]) / 2\n",
    "    \n",
    "    return median\n",
    "\n",
    "\n",
    "# Calculating median of int_list\n",
    "print(\"median = \", calculate_median(int_list))"
   ]
  },
  {
   "cell_type": "markdown",
   "id": "47df2172-daaf-461c-b3e1-d2ea7869e7d8",
   "metadata": {},
   "source": [
    "## (ii) Develop a program to compute the mode of a list of integers."
   ]
  },
  {
   "cell_type": "code",
   "execution_count": 6,
   "id": "c4668c3e-cb9f-41f1-aaa1-b4d11f71945f",
   "metadata": {},
   "outputs": [
    {
     "name": "stdout",
     "output_type": "stream",
     "text": [
      "mode =  95\n"
     ]
    }
   ],
   "source": [
    "# Creating Python function to calculate the mode\n",
    "def calculate_mode(lst):\n",
    "    frequency_dict = {}\n",
    "    \n",
    "    for num in lst:\n",
    "        if num in frequency_dict:\n",
    "            frequency_dict[num] += 1\n",
    "        else:\n",
    "            frequency_dict[num] = 1\n",
    "\n",
    "    max_frequency = max(frequency_dict.values())\n",
    "    modes = [num for num, freq in frequency_dict.items() if freq == max_frequency]\n",
    "\n",
    "    if len(modes) == 1:\n",
    "        return modes[0]\n",
    "    else:\n",
    "        return modes\n",
    "    \n",
    "# Calculating mode of int_list\n",
    "print(\"mode = \", calculate_mode(int_list))"
   ]
  },
  {
   "cell_type": "markdown",
   "id": "48a3dc35-5ed9-47be-a79d-9ed39b7c5cb6",
   "metadata": {},
   "source": [
    "## (iii) Implement a function to calculate the weighted mean of a list of values and their corresponding weights."
   ]
  },
  {
   "cell_type": "code",
   "execution_count": 7,
   "id": "b79ddf3b-893f-4872-8003-27822d0fd822",
   "metadata": {},
   "outputs": [],
   "source": [
    "def weighted_mean(values, weights):\n",
    "    # Ensure values and weights are numpy arrays\n",
    "    values = np.array(values)\n",
    "    weights = np.array(weights)\n",
    "\n",
    "    # Calculate the weighted sum\n",
    "    weighted_sum = np.sum(values * weights)\n",
    "\n",
    "    # Calculate the sum of the weights\n",
    "    weight_sum = np.sum(weights)\n",
    "\n",
    "    # Calculate the weighted mean\n",
    "    weighted_mean = weighted_sum / weight_sum\n",
    "\n",
    "    return weighted_mean"
   ]
  },
  {
   "cell_type": "code",
   "execution_count": 8,
   "id": "ab4f1ae4-5b7e-4f02-8b90-3cb951567291",
   "metadata": {},
   "outputs": [
    {
     "name": "stdout",
     "output_type": "stream",
     "text": [
      "Weighted Mean: 113.00\n"
     ]
    }
   ],
   "source": [
    "values = [100, 120, 110, 130]\n",
    "weights = [0.2, 0.3, 0.4, 0.1]\n",
    "\n",
    "weighted_mean_value = weighted_mean(values, weights)\n",
    "print(f\"Weighted Mean: {weighted_mean_value:.2f}\")"
   ]
  },
  {
   "cell_type": "markdown",
   "id": "2792419d-ae87-467a-afa1-4ed94983013a",
   "metadata": {},
   "source": [
    "## (iv) Write a Python function to find the geometric mean of a list of positive numbers."
   ]
  },
  {
   "cell_type": "code",
   "execution_count": 9,
   "id": "4998e1f7-bfbe-4d68-80fa-eba8037dcc1c",
   "metadata": {},
   "outputs": [],
   "source": [
    "def geometric_mean(numbers):\n",
    "    \n",
    "    # Ensure all numbers are positive\n",
    "    if any(num <= 0 for num in numbers):\n",
    "        raise ValueError(\"All numbers must be positive\")\n",
    "\n",
    "    # Calculate the product of the numbers\n",
    "    product = math.prod(numbers)\n",
    "\n",
    "    # Calculate the geometric mean\n",
    "    geometric_mean = product ** (1.0 / len(numbers))\n",
    "\n",
    "    return geometric_mean"
   ]
  },
  {
   "cell_type": "code",
   "execution_count": 10,
   "id": "e91d574e-b6e0-460e-afa5-2db3460fbc88",
   "metadata": {},
   "outputs": [
    {
     "name": "stdout",
     "output_type": "stream",
     "text": [
      "Geometric Mean: 4.43\n"
     ]
    }
   ],
   "source": [
    "numbers = [2, 4, 6, 8]\n",
    "geometric_mean_value = geometric_mean(numbers)\n",
    "print(f\"Geometric Mean: {geometric_mean_value:.2f}\")"
   ]
  },
  {
   "cell_type": "markdown",
   "id": "0fe038c0-0c17-4a4e-82c0-3ab219029300",
   "metadata": {},
   "source": [
    "##  (v) Create a program to calculate the harmonic mean of a list of values."
   ]
  },
  {
   "cell_type": "code",
   "execution_count": 11,
   "id": "fdf2aa06-6e08-4b2e-989e-e7d0cf2acb27",
   "metadata": {},
   "outputs": [],
   "source": [
    "def harmonic_mean(values):\n",
    "    # Ensure the list is not empty\n",
    "    if not values:\n",
    "        raise ValueError(\"List cannot be empty\")\n",
    "\n",
    "    # Calculate the reciprocal sum\n",
    "    reciprocal_sum = sum(1.0 / value for value in values)\n",
    "\n",
    "    # Calculate the harmonic mean\n",
    "    harmonic_mean = len(values) / reciprocal_sum\n",
    "\n",
    "    return harmonic_mean"
   ]
  },
  {
   "cell_type": "code",
   "execution_count": 12,
   "id": "2656d992-3acf-4337-a4bd-e20f36e20243",
   "metadata": {},
   "outputs": [
    {
     "name": "stdout",
     "output_type": "stream",
     "text": [
      "Harmonic Mean: 19.20\n"
     ]
    }
   ],
   "source": [
    "values = [10, 20, 30, 40]\n",
    "harmonic_mean_value = harmonic_mean(values)\n",
    "print(f\"Harmonic Mean: {harmonic_mean_value:.2f}\")"
   ]
  },
  {
   "cell_type": "markdown",
   "id": "8e52d7a9-9ee4-4f2c-8c2e-da5485645cb6",
   "metadata": {},
   "source": [
    "##  (vi) Build a function to determine the midrange of a list of numbers (average of the minimum and maximum)."
   ]
  },
  {
   "cell_type": "code",
   "execution_count": 13,
   "id": "f985f860-c455-4ddd-8ee9-1f0fc9ded64a",
   "metadata": {},
   "outputs": [],
   "source": [
    "def midrange(numbers):\n",
    "    # Ensure the list is not empty\n",
    "    if not numbers:\n",
    "        raise ValueError(\"List cannot be empty\")\n",
    "\n",
    "    # Calculate the minimum and maximum values\n",
    "    min_value = min(numbers)\n",
    "    max_value = max(numbers)\n",
    "\n",
    "    # Calculate the midrange\n",
    "    midrange = (min_value + max_value) / 2.0\n",
    "\n",
    "    return midrange"
   ]
  },
  {
   "cell_type": "code",
   "execution_count": 14,
   "id": "8d659d8a-761c-4665-aea7-33ab52560f7f",
   "metadata": {},
   "outputs": [
    {
     "name": "stdout",
     "output_type": "stream",
     "text": [
      "Midrange: 14.00\n"
     ]
    }
   ],
   "source": [
    "numbers = [12, 5, 23, 17, 9]\n",
    "midrange_value = midrange(numbers)\n",
    "print(f\"Midrange: {midrange_value:.2f}\")"
   ]
  },
  {
   "cell_type": "markdown",
   "id": "aea20aad-b2f6-412b-9e43-984aafb25313",
   "metadata": {},
   "source": [
    "##  (vii) Implement a Python program to find the trimmed mean of a list, excluding a certain percentage of outliers."
   ]
  },
  {
   "cell_type": "code",
   "execution_count": 15,
   "id": "c3a0c7bd-3f59-4cba-a4b6-6c5428d5c725",
   "metadata": {},
   "outputs": [],
   "source": [
    "def trimmed_mean(data, percentage):\n",
    "    # Ensure the list is not empty\n",
    "    if not data:\n",
    "        raise ValueError(\"List cannot be empty\")\n",
    "\n",
    "    # Ensure the percentage is within valid range\n",
    "    if percentage < 0 or percentage > 1:\n",
    "        raise ValueError(\"Percentage must be between 0 and 1\")\n",
    "\n",
    "    # Sort the data in ascending order\n",
    "    data.sort()\n",
    "\n",
    "    # Calculate the number of outliers to exclude\n",
    "    num_outliers = int(len(data) * percentage)\n",
    "\n",
    "    # Trim the outliers from both ends\n",
    "    trimmed_data = data[num_outliers:-num_outliers]\n",
    "\n",
    "    # Calculate the trimmed mean\n",
    "    trimmed_mean = sum(trimmed_data) / len(trimmed_data)\n",
    "\n",
    "    return trimmed_mean"
   ]
  },
  {
   "cell_type": "code",
   "execution_count": 16,
   "id": "b8582599-764e-4743-aaf4-81f5d341a54a",
   "metadata": {},
   "outputs": [
    {
     "name": "stdout",
     "output_type": "stream",
     "text": [
      "Trimmed Mean: 13.20\n"
     ]
    }
   ],
   "source": [
    "data = [12, 5, 23, 17, 9, 1, 100]\n",
    "percentage = 0.2  # Exclude 20% of outliers\n",
    "trimmed_mean_value = trimmed_mean(data, percentage)\n",
    "print(f\"Trimmed Mean: {trimmed_mean_value:.2f}\")"
   ]
  },
  {
   "cell_type": "markdown",
   "id": "a97f3128-3e12-47aa-8a26-b5fdc57936ce",
   "metadata": {},
   "source": [
    "#  2. Generate a list of 500 integers containing values between 200 to 300 and store it in the variable `int_list2`. After generating the list, find the following:"
   ]
  },
  {
   "cell_type": "markdown",
   "id": "e8da3021-5001-4488-8ace-d160a031248d",
   "metadata": {},
   "source": [
    "## (i) Compare the given list of visualization for the given data:\n",
    "\n",
    "    \n",
    "\n",
    "    1. Frequency & Gaussian distribution\n",
    "\n",
    "    2. Frequency smoothened KDE plot\n",
    "\n",
    "    3. Gaussian distribution & smoothened KDE plot"
   ]
  },
  {
   "cell_type": "code",
   "execution_count": 17,
   "id": "3a9c350f-e014-4b38-af67-5a04a080ea5f",
   "metadata": {},
   "outputs": [
    {
     "data": {
      "image/png": "[encoded data removed]",
      "text/plain": [
       "<Figure size 1000x600 with 1 Axes>"
      ]
     },
     "metadata": {},
     "output_type": "display_data"
    },
    {
     "data": {
      "image/png": "[encoded data removed]",
      "text/plain": [
       "<Figure size 1000x600 with 1 Axes>"
      ]
     },
     "metadata": {},
     "output_type": "display_data"
    },
    {
     "data": {
      "image/png": "[encoded data removed]",
      "text/plain": [
       "<Figure size 1000x600 with 1 Axes>"
      ]
     },
     "metadata": {},
     "output_type": "display_data"
    }
   ],
   "source": [
    "from scipy.stats import norm\n",
    "from scipy.stats import gaussian_kde\n",
    "\n",
    "# Generate the list of 500 integers between 200 and 300\n",
    "int_list2 = np.random.randint(200, 301, 500)\n",
    "\n",
    "# **Frequency and Gaussian Distribution**\n",
    "\n",
    "# Calculate the histogram and bin edges\n",
    "hist, bin_edges = np.histogram(int_list2, bins=30, density=True)\n",
    "\n",
    "# Calculate the Gaussian distribution\n",
    "mean, std_dev = np.mean(int_list2), np.std(int_list2)\n",
    "x = np.linspace(200, 300, 100)\n",
    "gaussian_dist = norm.pdf(x, loc=mean, scale=std_dev)\n",
    "\n",
    "# Plot the histogram and Gaussian distribution\n",
    "plt.figure(figsize=(10, 6))\n",
    "plt.hist(int_list2, bins=30, density=True, alpha=0.5, label='Frequency')\n",
    "plt.plot(x, gaussian_dist, 'r-', label='Gaussian Distribution')\n",
    "plt.xlabel('Value')\n",
    "plt.ylabel('Frequency')\n",
    "plt.title('Frequency and Gaussian Distribution')\n",
    "plt.legend()\n",
    "plt.show()\n",
    "\n",
    "# **Frequency Smoothened KDE Plot**\n",
    "\n",
    "# Calculate the kernel density estimate (KDE)\n",
    "kde = gaussian_kde(int_list2)\n",
    "\n",
    "# Plot the histogram and KDE\n",
    "plt.figure(figsize=(10, 6))\n",
    "plt.hist(int_list2, bins=30, density=True, alpha=0.5, label='Frequency')\n",
    "plt.plot(x, kde(x), 'g-', label='Smoothened KDE')\n",
    "plt.xlabel('Value')\n",
    "plt.ylabel('Frequency')\n",
    "plt.title('Frequency Smoothened KDE Plot')\n",
    "plt.legend()\n",
    "plt.show()\n",
    "\n",
    "# **Gaussian Distribution and Smoothened KDE Plot**\n",
    "\n",
    "# Plot the Gaussian distribution and KDE\n",
    "plt.figure(figsize=(10, 6))\n",
    "plt.plot(x, gaussian_dist, 'r-', label='Gaussian Distribution')\n",
    "plt.plot(x, kde(x), 'g-', label='Smoothened KDE')\n",
    "plt.xlabel('Value')\n",
    "plt.ylabel('Frequency')\n",
    "plt.title('Gaussian Distribution and Smoothened KDE Plot')\n",
    "plt.legend()\n",
    "plt.show()"
   ]
  },
  {
   "cell_type": "markdown",
   "id": "674e88bc-9d55-4df6-9836-d57a29e6bde2",
   "metadata": {},
   "source": [
    "##  (ii) Write a Python function to calculate the range of a given list of numbers."
   ]
  },
  {
   "cell_type": "code",
   "execution_count": 18,
   "id": "3b752041-ff21-4661-9a8a-5b0717ad0d2f",
   "metadata": {},
   "outputs": [],
   "source": [
    "def calculate_range(data):\n",
    "    # Ensure the list is not empty\n",
    "    if not data:\n",
    "        raise ValueError(\"List cannot be empty\")\n",
    "\n",
    "    # Calculate the range\n",
    "    range_value = max(data) - min(data)\n",
    "\n",
    "    return range_value"
   ]
  },
  {
   "cell_type": "code",
   "execution_count": 19,
   "id": "0e031cb6-1fc4-4b9f-b32c-a49d32fb7f85",
   "metadata": {},
   "outputs": [
    {
     "name": "stdout",
     "output_type": "stream",
     "text": [
      "Range: 99\n"
     ]
    }
   ],
   "source": [
    "data = [12, 5, 23, 17, 9, 1, 100]\n",
    "range_value = calculate_range(data)\n",
    "print(f\"Range: {range_value}\")"
   ]
  },
  {
   "cell_type": "markdown",
   "id": "4be22974-d1e0-4dce-898d-732a50a1c2b5",
   "metadata": {},
   "source": [
    "##   (iii) Create a program to find the variance and standard deviation of a list of numbers."
   ]
  },
  {
   "cell_type": "code",
   "execution_count": 20,
   "id": "71aa150f-4fe8-4e4a-8f3c-d77de33ee741",
   "metadata": {},
   "outputs": [],
   "source": [
    "def calculate_variance_std_dev(data):\n",
    "    \"\"\"\n",
    "    Calculate the variance and standard deviation of a list of numbers.\n",
    "\n",
    "    Parameters:\n",
    "    data (list): List of numbers\n",
    "\n",
    "    Returns:\n",
    "    tuple: Variance and standard deviation\n",
    "    \"\"\"\n",
    "    # Ensure the list is not empty\n",
    "    if not data:\n",
    "        raise ValueError(\"List cannot be empty\")\n",
    "\n",
    "    # Calculate the mean\n",
    "    mean_value = sum(data) / len(data)\n",
    "\n",
    "    # Calculate the variance\n",
    "    variance = sum((x - mean_value) ** 2 for x in data) / len(data)\n",
    "\n",
    "    # Calculate the standard deviation\n",
    "    std_dev = math.sqrt(variance)\n",
    "\n",
    "    return variance, std_dev"
   ]
  },
  {
   "cell_type": "code",
   "execution_count": 21,
   "id": "93810edd-c8d0-4525-800f-4d2613c5987b",
   "metadata": {},
   "outputs": [
    {
     "name": "stdout",
     "output_type": "stream",
     "text": [
      "Variance: 1012.12\n",
      "Standard Deviation: 31.81\n"
     ]
    }
   ],
   "source": [
    "data = [12, 5, 23, 17, 9, 1, 100]\n",
    "variance, std_dev = calculate_variance_std_dev(data)\n",
    "print(f\"Variance: {variance:.2f}\")\n",
    "print(f\"Standard Deviation: {std_dev:.2f}\")"
   ]
  },
  {
   "cell_type": "markdown",
   "id": "e0a5ff49-7021-488b-8c9e-112e2286edd9",
   "metadata": {},
   "source": [
    "##  (iv) Implement a function to compute the interquartile range (IQR) of a list of values."
   ]
  },
  {
   "cell_type": "code",
   "execution_count": 22,
   "id": "8623f269-0977-44b3-a52e-2f19d7f86aaf",
   "metadata": {},
   "outputs": [],
   "source": [
    "def calculate_iqr(data):\n",
    "    # Ensure the list is not empty\n",
    "    if not data:\n",
    "        raise ValueError(\"List cannot be empty\")\n",
    "\n",
    "    # Calculate the first quartile (Q1)\n",
    "    q1 = np.percentile(data, 25)\n",
    "\n",
    "    # Calculate the third quartile (Q3)\n",
    "    q3 = np.percentile(data, 75)\n",
    "\n",
    "    # Calculate the interquartile range (IQR)\n",
    "    iqr = q3 - q1\n",
    "\n",
    "    return iqr"
   ]
  },
  {
   "cell_type": "code",
   "execution_count": 23,
   "id": "3e8ff88f-8698-4ebf-9305-d64e9db0ae5d",
   "metadata": {},
   "outputs": [
    {
     "name": "stdout",
     "output_type": "stream",
     "text": [
      "Interquartile Range (IQR): 13.00\n"
     ]
    }
   ],
   "source": [
    "data = [12, 5, 23, 17, 9, 1, 100]\n",
    "iqr = calculate_iqr(data)\n",
    "print(f\"Interquartile Range (IQR): {iqr:.2f}\")"
   ]
  },
  {
   "cell_type": "markdown",
   "id": "8106d38a-0adb-4836-9c14-533941b65437",
   "metadata": {},
   "source": [
    "##  (v) Build a program to calculate the coefficient of variation for a dataset."
   ]
  },
  {
   "cell_type": "code",
   "execution_count": 24,
   "id": "3a062424-6e42-44f4-aa10-b448a15ade84",
   "metadata": {},
   "outputs": [],
   "source": [
    "def calculate_coefficient_variation(data):\n",
    "    # Ensure the list is not empty\n",
    "    if not data:\n",
    "        raise ValueError(\"List cannot be empty\")\n",
    "\n",
    "    # Calculate the mean\n",
    "    mean_value = sum(data) / len(data)\n",
    "\n",
    "    # Calculate the standard deviation\n",
    "    std_dev = math.sqrt(sum((x - mean_value) ** 2 for x in data) / len(data))\n",
    "\n",
    "    # Calculate the coefficient of variation\n",
    "    coefficient_variation = std_dev / mean_value\n",
    "\n",
    "    return coefficient_variation"
   ]
  },
  {
   "cell_type": "code",
   "execution_count": 25,
   "id": "63f9d6d9-218a-427c-b407-5729f0d741fb",
   "metadata": {},
   "outputs": [
    {
     "name": "stdout",
     "output_type": "stream",
     "text": [
      "Coefficient of Variation: 1.33\n"
     ]
    }
   ],
   "source": [
    "data = [12, 5, 23, 17, 9, 1, 100]\n",
    "coefficient_variation = calculate_coefficient_variation(data)\n",
    "print(f\"Coefficient of Variation: {coefficient_variation:.2f}\")"
   ]
  },
  {
   "cell_type": "markdown",
   "id": "41432523-8c3b-4ad4-b311-1c144fdc8079",
   "metadata": {},
   "source": [
    "##  (vi) Write a Python function to find the mean absolute deviation (MAD) of a list of numbers."
   ]
  },
  {
   "cell_type": "code",
   "execution_count": 26,
   "id": "c347ee14-acfb-4e8a-acb7-05dae98d6ebb",
   "metadata": {},
   "outputs": [],
   "source": [
    "def calculate_mad(data):\n",
    "    # Ensure the list is not empty\n",
    "    if not data:\n",
    "        raise ValueError(\"List cannot be empty\")\n",
    "\n",
    "    # Calculate the mean\n",
    "    mean_value = sum(data) / len(data)\n",
    "\n",
    "    # Calculate the absolute deviations from the mean\n",
    "    absolute_deviations = [abs(x - mean_value) for x in data]\n",
    "\n",
    "    # Calculate the mean absolute deviation (MAD)\n",
    "    mad = sum(absolute_deviations) / len(data)\n",
    "\n",
    "    return mad"
   ]
  },
  {
   "cell_type": "code",
   "execution_count": 27,
   "id": "ee2737a1-1a85-4170-83ad-92127e8275bf",
   "metadata": {},
   "outputs": [
    {
     "name": "stdout",
     "output_type": "stream",
     "text": [
      "Mean Absolute Deviation (MAD): 21.76\n"
     ]
    }
   ],
   "source": [
    "data = [12, 5, 23, 17, 9, 1, 100]\n",
    "mad = calculate_mad(data)\n",
    "print(f\"Mean Absolute Deviation (MAD): {mad:.2f}\")"
   ]
  },
  {
   "cell_type": "markdown",
   "id": "6f5f434f-04ab-42d0-bce8-7ffb4a199abd",
   "metadata": {},
   "source": [
    "##  (vii) Create a program to calculate the quartile deviation of a list of values."
   ]
  },
  {
   "cell_type": "code",
   "execution_count": 28,
   "id": "1186e510-401a-4802-98d1-b53c7b57245c",
   "metadata": {},
   "outputs": [],
   "source": [
    "def calculate_quartile_deviation(data):\n",
    "    # Ensure the list is not empty\n",
    "    if not data:\n",
    "        raise ValueError(\"List cannot be empty\")\n",
    "\n",
    "    # Sort the list in ascending order\n",
    "    data.sort()\n",
    "\n",
    "    # Calculate the first quartile (Q1)\n",
    "    q1 = data[len(data) // 4]\n",
    "\n",
    "    # Calculate the third quartile (Q3)\n",
    "    q3 = data[3 * len(data) // 4]\n",
    "\n",
    "    # Calculate the quartile deviation\n",
    "    quartile_deviation = (q3 - q1) / 2\n",
    "\n",
    "    return quartile_deviation"
   ]
  },
  {
   "cell_type": "code",
   "execution_count": 29,
   "id": "59b534ce-525b-4106-95cb-93a051508851",
   "metadata": {},
   "outputs": [
    {
     "name": "stdout",
     "output_type": "stream",
     "text": [
      "Quartile Deviation: 9.00\n"
     ]
    }
   ],
   "source": [
    "data = [12, 5, 23, 17, 9, 1, 100]\n",
    "quartile_deviation = calculate_quartile_deviation(data)\n",
    "print(f\"Quartile Deviation: {quartile_deviation:.2f}\")"
   ]
  },
  {
   "cell_type": "markdown",
   "id": "42049351-69f1-4106-a9cb-74c8dd92943c",
   "metadata": {},
   "source": [
    "##  (viii) Implement a function to find the range-based coefficient of dispersion for a dataset."
   ]
  },
  {
   "cell_type": "code",
   "execution_count": 30,
   "id": "30a96c5d-f5f2-4542-8755-2054fcea3f1a",
   "metadata": {},
   "outputs": [],
   "source": [
    "def calculate_range_based_coefficient_of_dispersion(data):\n",
    "    # Ensure the list is not empty\n",
    "    if not data:\n",
    "        raise ValueError(\"List cannot be empty\")\n",
    "\n",
    "    # Calculate the range of the data\n",
    "    data_range = max(data) - min(data)\n",
    "\n",
    "    # Calculate the mean of the data\n",
    "    mean_value = sum(data) / len(data)\n",
    "\n",
    "    # Calculate the range-based coefficient of dispersion\n",
    "    coefficient_of_dispersion = data_range / mean_value\n",
    "\n",
    "    return coefficient_of_dispersion"
   ]
  },
  {
   "cell_type": "code",
   "execution_count": 31,
   "id": "27686494-a5c9-4d39-8d58-0dd46342919f",
   "metadata": {},
   "outputs": [
    {
     "name": "stdout",
     "output_type": "stream",
     "text": [
      "Range-Based Coefficient of Dispersion: 4.15\n"
     ]
    }
   ],
   "source": [
    "data = [12, 5, 23, 17, 9, 1, 100]\n",
    "coefficient_of_dispersion = calculate_range_based_coefficient_of_dispersion(data)\n",
    "print(f\"Range-Based Coefficient of Dispersion: {coefficient_of_dispersion:.2f}\")"
   ]
  },
  {
   "cell_type": "markdown",
   "id": "c93be830-b2e9-405e-bdb1-178bccd71bba",
   "metadata": {},
   "source": [
    "# 3.  Write a Python class representing a discrete random variable with methods to calculate its expected value and variance."
   ]
  },
  {
   "cell_type": "code",
   "execution_count": 32,
   "id": "0fb94cd9-6108-4c2d-8063-38e4de9d8a06",
   "metadata": {},
   "outputs": [
    {
     "name": "stdout",
     "output_type": "stream",
     "text": [
      "Discrete Random Variable: outcomes=[1 2 3 4 5 6], probabilities=[0.16666667 0.16666667 0.16666667 0.16666667 0.16666667 0.16666667]\n",
      "Expected value: 3.5000\n",
      "Variance: 2.9167\n"
     ]
    }
   ],
   "source": [
    "import numpy as np\n",
    "\n",
    "class DiscreteRandomVariable:\n",
    "    \n",
    "    def __init__(self, outcomes, probabilities):\n",
    "        self.outcomes = np.array(outcomes)\n",
    "        self.probabilities = np.array(probabilities)\n",
    "\n",
    "        # Check if the probabilities sum to 1\n",
    "        if not np.isclose(np.sum(self.probabilities), 1):\n",
    "            raise ValueError(\"Probabilities must sum to 1\")\n",
    "\n",
    "    def expected_value(self):\n",
    "        return np.sum(self.outcomes * self.probabilities)\n",
    "\n",
    "    def variance(self):\n",
    "        expected_value = self.expected_value()\n",
    "        return np.sum((self.outcomes - expected_value) ** 2 * self.probabilities)\n",
    "\n",
    "    def __str__(self):\n",
    "        return f\"Discrete Random Variable: outcomes={self.outcomes}, probabilities={self.probabilities}\"\n",
    "\n",
    "# Example usage:\n",
    "outcomes = [1, 2, 3, 4, 5, 6]\n",
    "probabilities = [1/6, 1/6, 1/6, 1/6, 1/6, 1/6]\n",
    "\n",
    "rv = DiscreteRandomVariable(outcomes, probabilities)\n",
    "print(rv)\n",
    "\n",
    "expected_value = rv.expected_value()\n",
    "print(f\"Expected value: {expected_value:.4f}\")\n",
    "\n",
    "variance = rv.variance()\n",
    "print(f\"Variance: {variance:.4f}\")"
   ]
  },
  {
   "cell_type": "markdown",
   "id": "9c0a3346-33be-4c33-bee2-03a0a7f19738",
   "metadata": {},
   "source": [
    "# 4. Implement a program to simulate the rolling of a fair six-sided die and calculate the expected value and variance o6 the outcomes."
   ]
  },
  {
   "cell_type": "code",
   "execution_count": 33,
   "id": "9bea2d5b-0dba-4409-97b7-cfd16439f18a",
   "metadata": {},
   "outputs": [
    {
     "name": "stdout",
     "output_type": "stream",
     "text": [
      "Expected value: 3.5000\n",
      "Variance: 2.9167\n",
      "Sample mean (after 10000 rolls): 3.5052\n",
      "Sample variance (after 10000 rolls): 2.9406\n"
     ]
    }
   ],
   "source": [
    "# Define the possible outcomes of a fair six-sided die\n",
    "outcomes = np.array([1, 2, 3, 4, 5, 6])\n",
    "\n",
    "# Calculate the probability of each outcome (assuming a fair die)\n",
    "probabilities = np.array([1/6, 1/6, 1/6, 1/6, 1/6, 1/6])\n",
    "\n",
    "# Calculate the expected value\n",
    "expected_value = np.sum(outcomes * probabilities)\n",
    "print(f\"Expected value: {expected_value:.4f}\")\n",
    "\n",
    "# Calculate the variance\n",
    "variance = np.sum((outcomes - expected_value) ** 2 * probabilities)\n",
    "print(f\"Variance: {variance:.4f}\")\n",
    "\n",
    "# Simulate the rolling of the die multiple times\n",
    "n_rolls = 10000\n",
    "rolls = np.random.choice(outcomes, size=n_rolls, p=probabilities)\n",
    "\n",
    "# Calculate the sample mean and variance\n",
    "sample_mean = np.mean(rolls)\n",
    "sample_variance = np.var(rolls)\n",
    "\n",
    "print(f\"Sample mean (after {n_rolls} rolls): {sample_mean:.4f}\")\n",
    "print(f\"Sample variance (after {n_rolls} rolls): {sample_variance:.4f}\")"
   ]
  },
  {
   "cell_type": "markdown",
   "id": "07de0b10-d2c6-4ced-bb7a-e1e187aa3e9d",
   "metadata": {},
   "source": [
    "# 5. Create a Python function to generate random samples from a given probability distribution (e.g., binomial, Poisson) and calculate their mean and variance."
   ]
  },
  {
   "cell_type": "code",
   "execution_count": 34,
   "id": "d96171b6-b72f-40aa-bc76-99a0e6fb0bba",
   "metadata": {},
   "outputs": [
    {
     "name": "stdout",
     "output_type": "stream",
     "text": [
      "Generated 1000 samples from a binomial distribution with n=10 and p=0.5:\n",
      "Samples: [ 4  5  8  4  7  3  2  4  7  4  4  6  4  4  3  4  2  2  5  2  7  4  3  4\n",
      "  4  4  7  2  4  6  6  8  4  9  5  4  7  6  5  6  4  3  4  5  2  7  4  5\n",
      "  4  4  1  3  9  6  5  4  7  6  5  4  5  7  3  6  6  4  4  6  4  4  8  3\n",
      "  5  5  6  4  4  6  1  5  4  3  4  6  4  6  7  6  4  4  5  7  1  4  3  2\n",
      "  6  5  5  7  5  3  3  7  3  6  5  6  4  3  4  4  3  6  6  5  6  7  6  5\n",
      "  5  4  8  4  6  6  6  5  7  6  7  4  3  4  2  5  8  3  6  6  7  4  5  6\n",
      "  4  6  8  5  4  4  2  5  6  4  5  6  5  6  7  6  5  3  4  6  4  4  4  6\n",
      "  5  6  6  6  5  5  6  6  5  4  3  5  6  8  6  6  3  3  5  2  6  5  5  4\n",
      "  3  4  6  4  5  5  5  6  3  3  5  3  4  4  3  4  6  3  4  6  1  2  8  7\n",
      "  4  7  5  8  6  5  5  7  5  5  3  2  6  6  5  3  5  6  4  5  5  7  6  2\n",
      "  3  4  5  5  2  4  4  3  5  4  3  3  7  5  5  6  8  7  4  6  6  6  6  5\n",
      "  6  2  5  6  7  4  4  6  6  5  3  8  4  6  4  5  6  4  5  4  5  4  5  6\n",
      "  6  5  4  5  3  7  3  8  5  5  7  8  7  6  6  3  3  7  8  6  7  5  7  8\n",
      "  4  4  3  5  5  5  3  7  4  6  2  6  4  6  5  8  4  6  3  0  4  5  3  5\n",
      "  7  5  4  6  7  9  6  7  7  5  3  1  5  6  8  7  4  6  3  5  7  4  5  4\n",
      "  5  8  3  4  3  7  5  7  4  4  5  4  4  4  6  4  5  7  6  5  6  4  6  7\n",
      "  4  5  3  6  5  3  7  6  4  5  4  3  7  4  3  8  9  2  4  4  3  4  5  5\n",
      "  4  2  4  7  9  5  7  7  4  4  5  3  6  4  6  6  5  6  6  4  5  4  3  6\n",
      "  6  5  5  6  4  5  5  5  6  6  5  7  4  5  9  4  6  6  5  6  4  5  5  5\n",
      "  6  7  2  7  8  7  5  3  5  5  4  3  3  4  5  9  1  6  4  6  4  3  3  4\n",
      "  4  7  3  5  2  8  4  3  7  4  5  6  4  3  4  6  4  7  5  3  4  6  4  4\n",
      "  6  5  2  7  6  4  3  8  4  4  5  5  7  3  5  6  6  6  7  4  4  4  5  6\n",
      "  6  5  5  7  8  3  6  5  6  6  4  4  2  7  6  6  4  7  4  5  5  6  5  5\n",
      "  4  5  7  5  2  4  7  3  5  5  4  6  5  5  4  5  4  5  6  4  4  6  8  3\n",
      "  5  5  5  3  6  6  3  5  5  9  6  5  5  7  5  4  6  6  5  7  5  4  4  4\n",
      "  6  5  4  3  5  4  7  3  5  4  6  1  6  7  8  4  5  5  5  5  5  6  6  5\n",
      "  6  7  7  5  3  8  4  3  6  4  8  4  6  3  5  7  3  6  7  7  6  5  4  4\n",
      "  4  4  7  5  5  4  4  7  2  8  5  6  4  6  2  6  6  7  5  4  4  7  6  4\n",
      "  5  6  4  5  5  2  5  5  2  2  3  4  3  6  6  6  5  4  5  5  3  5  4  8\n",
      "  4  5  7  5  6  5  4  7  6  3  5  1  5  3  6  7  4  5  3  6  4  6  4  5\n",
      "  5  3  5  4  3  4  6  4  8  6  3  4  7  4  6  4  4  6  7  5  8  5  5  6\n",
      "  6  5  6  4  2  7 10  5  4  6  7  6  5  4  4  6  4  4  7  5  5  6  6  4\n",
      "  7  5  7  5  7  5  2  6  4  3  5  4  3  5  4  4  4  7  5  5  6  6  2  6\n",
      "  6  4  5  5  5  7  5  5  8  6  6  6  4  5  3  4  4  7  6  9  9  4  7  4\n",
      "  4  6  6  6  5  5  3  6  5  4  5  6  7  4  6  3  7  7  5  6  6  5  7  5\n",
      "  8  7  5  2  3  6  5  6  8  2  4  6  1  5  3  4  3  9  4  6  1  5  5  3\n",
      "  3  2  7  5  4  4  8  7  3  5  4  5  5  6  6  2  5  7  6  5  6  4  4  7\n",
      "  5  5  6  5  6  2  7  4  7  2  5  7  4  5  5  7  5  5  3  3  6  5  3  5\n",
      "  4  5  5  4  4  6  4  3  6  5  5  5  3  6  6  2  7  4  6  5  4  6  6  5\n",
      "  4  6  4  7  6  5  5  7  7  5  4  5  6  5  6  9  5  4  5  5  5  3  6  7\n",
      "  1  5  7  6  6  6  4  4  8  5  2  6  4  6  5  7  2  6  6  5  7  6  4  8\n",
      "  5  5  5  7  5  6  3  5  4  2  4  3  2  6  5  7]\n",
      "Mean: 4.9950\n",
      "Variance: 2.4190\n",
      "Generated 1000 samples from a Poisson distribution with mu=5:\n",
      "Samples: [12  1  9  1  4 11  3  3  8  2  5  9  4  3  5  3  3  2  6  7  5  2  5  2\n",
      "  5  6  6  5  4  5  6  6  6  4  4  9  3  4  6  5  5  5  5  8  6 10  4  5\n",
      "  3  1  7  4  6  5  9  8  6  3  1  8  7  2  4  6  5  4  1  5 10  3  8  2\n",
      "  9  8  6  1  3  7  6  7  1  3  8  3  4  4  2 11  8  7  3  6  4  1  8  3\n",
      "  6  7  7  4  6  6  6  5  7  6  6  8  5  9  3  9  2  7 10  0  7  5  5  9\n",
      "  6  5  9  2  1  4  5  5  4  6  6  4  5  4  7  4  7  5  7  7  5  4  3  2\n",
      "  7  8  2  3  7  7  4  3  8  4  8  5  5 12  9  4  6 10  4  2  5  5  7  8\n",
      "  5  7  4  2  4  6  2  7  7  1  4  7  5  8  3  2 10  8  3  2  5  4  6  4\n",
      "  5  1  6  3  6  2  2  4  6  4  8  8  7  5  7  6  4  6  1  7 10  4  4  6\n",
      "  4  8  3  6  5  7  3  4  8  4  7  3  7  5  7  4  4  1  7  6  4  5  7  6\n",
      "  6  9  4  4  5  3  6  4  6  1  5  6  8  8  8  6  4  9  4  6  4  4  6  7\n",
      "  6  4  2  6  7  5  2  1  5  5  2  3  3  4  5  3  6  7  6  3  7  5  5  7\n",
      "  4  3  6  7  7 10  2  5  6  4  0  7  4  6  3  3  6  7  2  6  6  3  7  6\n",
      "  4  3  4  2  5  6  3  5  4  4  0  6  2  2  6  7  5 11  7  9 11  5  7  2\n",
      "  5  6  5  7  6  3  2  8  3  5  5  4  3  6  3  4  8  3  5  3  5  4  6  4\n",
      "  6  5  4  3  9  1  6  8  5  4  8  5  5  4  3  3  4  7  8  5  6  4  5  5\n",
      "  2  6  6  2  8  2  7  7  3  5  3  9  4  5  5  6  8  7  1  1  6  4  6  3\n",
      "  7  5  4  8  4  8  3  4  7  2  7  7  6  4  6  4  1  3  3  5  5  5  4  5\n",
      "  4  3  5  8  4  3  3  3  7  6  3  7  4  9  6  8  3  4  7  6  6  7  6  5\n",
      "  8  4 10  9  5  6  5  6  3  9  8  4  4  6  4  3  5  6  0  4  3  5  2 11\n",
      "  7  7  4  4  2  6  6  4  6  2  3  6  5  5  7  4  2  4  9  5  3  8  5  8\n",
      "  6  5  7  9  3  2  5  7  6  2  4  7  5  8  5  3  4  5  5  4  4  6  5  7\n",
      "  6  3  7  4  1  3 10  7  2  4  7  4  6  8  6  7  5  1  4  6  4  5  5 10\n",
      "  7  3  2  6 10  2  7  5  3  3  1  4  6  7  9  4  6  7  5  5  4  1  6  3\n",
      "  4  2  4  7 10  2  0  5  4  5  9  3  8  6  7  4  8  3  1  5  5  6  4  9\n",
      "  7  4  6  3  4  4 11  5  5  5  2  2  2  3  5  6  6  7  6  1  5  4  4  3\n",
      " 14  7  3  5  7  4  2  6  4 11  5  7  3  7  5  3  5  3  3  3  6  4  3  3\n",
      "  4  7  5  3  5  3  3  6  3  3  4  5  2  6  4  2  3  5  2  5  5  7 10  2\n",
      "  4  4  7  8  3  1  2  4  2  6  8  4  3  4  6  6  6  4  4  3  5  6  3  3\n",
      "  3  4  7  3  5  9  6  3  8  1  3  6  3  7  8  3  6  1  2  3  4  3  6  7\n",
      "  4  4  7  3  5  5  3  2  5  7  6  6  4  7  5  6  1  4  6  1  3  5  2  6\n",
      "  9  1  6  6  3  5  7  4  7  1  6  4  6  4  4  6  7  2  6  1  4  4  5  3\n",
      "  4 11  5  8  4  8  5  4  8  2  5  4  6  3  8  5  7  3 10  2  5  3  1  4\n",
      "  8  4  3  5  2  6  7  7  9  5  4  5  9  7  1 11  7  7  4  9  5  5  2  1\n",
      "  5  2  5  4  4  6  6  4  7  5  5  6  6  6  6  3  1  1  7  3  3  6  5  7\n",
      " 12  2  5  7  4  4  4  6  4  6  7  6  6  4  5  4  2  7  3  3  5  6  5  6\n",
      "  8  2  9  2  3  8  7  4  7  8  6  8  2  3  7  6  3  7  9  3  5  5  6  4\n",
      "  3  4  5  5  6 10  7  7  5  3  5  6  3  5  3  9  4  6  5  4  2  6  4  9\n",
      "  9  2  2  3  4  5  4  2  7  3  8  3 10  7  4  3  5  4  7  6  5  4  3  2\n",
      "  3  7 11  6  5  6  7  5  4  9  5  5  3  6  4  6  7  5  3  2  4  7  2  6\n",
      "  4  5  9  4  2  9  3  4  6  1  9  6  7  4  9  0  7  3  5  1  4  9  6  5\n",
      "  4  4  2  5  4  4  5 10  7  9  2  8  3  9  3  2]\n",
      "Mean: 5.0390\n",
      "Variance: 5.0255\n"
     ]
    }
   ],
   "source": [
    "from scipy.stats import binom, poisson\n",
    "\n",
    "def generate_samples(dist, *args, **kwargs):\n",
    "    if dist == 'binomial':\n",
    "        n, p = args\n",
    "        samples = binom.rvs(n, p, **kwargs)\n",
    "    elif dist == 'poisson':\n",
    "        mu = args[0]\n",
    "        samples = poisson.rvs(mu, **kwargs)\n",
    "    else:\n",
    "        raise ValueError(\"Unsupported distribution\")\n",
    "\n",
    "    mean_samples = np.mean(samples)\n",
    "    variance_samples = np.var(samples)\n",
    "\n",
    "    return samples, mean_samples, variance_samples\n",
    "\n",
    "# Example usage:\n",
    "dist = 'binomial'\n",
    "n = 10\n",
    "p = 0.5\n",
    "size = 1000\n",
    "\n",
    "samples, mean_samples, variance_samples = generate_samples(dist, n, p, size=size)\n",
    "\n",
    "print(f\"Generated {size} samples from a binomial distribution with n={n} and p={p}:\")\n",
    "print(f\"Samples: {samples}\")\n",
    "print(f\"Mean: {mean_samples:.4f}\")\n",
    "print(f\"Variance: {variance_samples:.4f}\")\n",
    "\n",
    "dist = 'poisson'\n",
    "mu = 5\n",
    "size = 1000\n",
    "\n",
    "samples, mean_samples, variance_samples = generate_samples(dist, mu, size=size)\n",
    "\n",
    "print(f\"Generated {size} samples from a Poisson distribution with mu={mu}:\")\n",
    "print(f\"Samples: {samples}\")\n",
    "print(f\"Mean: {mean_samples:.4f}\")\n",
    "print(f\"Variance: {variance_samples:.4f}\")"
   ]
  },
  {
   "cell_type": "markdown",
   "id": "afbba4d5-e608-4dcc-a254-9dad6dac36a6",
   "metadata": {},
   "source": [
    "# 6. Write a Python script to generate random numbers from a Gaussian (normal) distribution and compute the mean, variance, and standard deviation of the samples."
   ]
  },
  {
   "cell_type": "code",
   "execution_count": 35,
   "id": "d8330700-ce50-4ef5-be75-3c19aa0d0bfc",
   "metadata": {},
   "outputs": [
    {
     "name": "stdout",
     "output_type": "stream",
     "text": [
      "Mean of the samples: -0.0453\n",
      "Variance of the samples: 0.9742\n",
      "Standard deviation of the samples: 0.9870\n",
      "Population mean: 0\n",
      "Population variance: 1\n",
      "Population standard deviation: 1\n"
     ]
    }
   ],
   "source": [
    "# Set the seed for reproducibility\n",
    "np.random.seed(0)\n",
    "\n",
    "# Define the parameters of the Gaussian distribution\n",
    "mu = 0  # mean\n",
    "sigma = 1  # standard deviation\n",
    "n_samples = 1000  # number of samples\n",
    "\n",
    "# Generate random numbers from the Gaussian distribution\n",
    "samples = np.random.normal(mu, sigma, n_samples)\n",
    "\n",
    "# Compute the mean of the samples\n",
    "mean_samples = np.mean(samples)\n",
    "\n",
    "# Compute the variance of the samples\n",
    "variance_samples = np.var(samples)\n",
    "\n",
    "# Compute the standard deviation of the samples\n",
    "std_samples = np.std(samples)\n",
    "\n",
    "# Print the results\n",
    "print(f\"Mean of the samples: {mean_samples:.4f}\")\n",
    "print(f\"Variance of the samples: {variance_samples:.4f}\")\n",
    "print(f\"Standard deviation of the samples: {std_samples:.4f}\")\n",
    "\n",
    "# Compare with the population parameters\n",
    "print(f\"Population mean: {mu}\")\n",
    "print(f\"Population variance: {sigma ** 2}\")\n",
    "print(f\"Population standard deviation: {sigma}\")"
   ]
  },
  {
   "cell_type": "markdown",
   "id": "4343f3f2-6817-419f-8466-ff4094e21dff",
   "metadata": {},
   "source": [
    "# 7. Use seaborn library to load tips dataset. Find the following from the dataset for the columns total_bill and tip`:"
   ]
  },
  {
   "cell_type": "markdown",
   "id": "13364498-a560-4711-98d6-6569df425d62",
   "metadata": {},
   "source": [
    "##  (i) Write a Python function that calculates their skewness."
   ]
  },
  {
   "cell_type": "code",
   "execution_count": 36,
   "id": "0e21c126-84c2-4568-be7a-a265f10386d8",
   "metadata": {},
   "outputs": [
    {
     "name": "stdout",
     "output_type": "stream",
     "text": [
      "Skewness of total_bill: 1.1262\n",
      "Skewness of tip: 1.4564\n"
     ]
    }
   ],
   "source": [
    "from scipy.stats import skew\n",
    "\n",
    "def calculate_skewness():\n",
    "    # Load the tips dataset\n",
    "    tips = sns.load_dataset(\"tips\")\n",
    "\n",
    "    # Calculate the skewness of the total_bill column\n",
    "    total_bill_skewness = skew(tips[\"total_bill\"])\n",
    "    print(f\"Skewness of total_bill: {total_bill_skewness:.4f}\")\n",
    "\n",
    "    # Calculate the skewness of the tip column\n",
    "    tip_skewness = skew(tips[\"tip\"])\n",
    "    print(f\"Skewness of tip: {tip_skewness:.4f}\")\n",
    "\n",
    "calculate_skewness()"
   ]
  },
  {
   "cell_type": "markdown",
   "id": "9e2827de-f121-4250-bc96-13088f497c31",
   "metadata": {},
   "source": [
    "##  (ii) Create a program that determines whether the columns exhibit positive skewness, negative skewness, or is approximately symmetric."
   ]
  },
  {
   "cell_type": "code",
   "execution_count": 37,
   "id": "679dd576-8833-49db-9aef-12e0924dbbde",
   "metadata": {},
   "outputs": [
    {
     "name": "stdout",
     "output_type": "stream",
     "text": [
      "total_bill exhibits positive skewness.\n",
      "tip exhibits positive skewness.\n"
     ]
    }
   ],
   "source": [
    "def determine_skewness_type():\n",
    "    # Load the tips dataset\n",
    "    tips = sns.load_dataset(\"tips\")\n",
    "\n",
    "    # Calculate the skewness of the total_bill column\n",
    "    total_bill_skewness = skew(tips[\"total_bill\"])\n",
    "\n",
    "    # Determine the skewness type of the total_bill column\n",
    "    if total_bill_skewness > 0.5:\n",
    "        print(\"total_bill exhibits positive skewness.\")\n",
    "    elif total_bill_skewness < -0.5:\n",
    "        print(\"total_bill exhibits negative skewness.\")\n",
    "    else:\n",
    "        print(\"total_bill is approximately symmetric.\")\n",
    "\n",
    "    # Calculate the skewness of the tip column\n",
    "    tip_skewness = skew(tips[\"tip\"])\n",
    "\n",
    "    # Determine the skewness type of the tip column\n",
    "    if tip_skewness > 0.5:\n",
    "        print(\"tip exhibits positive skewness.\")\n",
    "    elif tip_skewness < -0.5:\n",
    "        print(\"tip exhibits negative skewness.\")\n",
    "    else:\n",
    "        print(\"tip is approximately symmetric.\")\n",
    "\n",
    "determine_skewness_type()"
   ]
  },
  {
   "cell_type": "markdown",
   "id": "6991d5d4-2a49-488c-a6d9-c0884847f9a5",
   "metadata": {},
   "source": [
    "##  (iii) Write a function that calculates the covariance between two columns."
   ]
  },
  {
   "cell_type": "code",
   "execution_count": 38,
   "id": "a5455a02-1b8a-4224-8d2a-fb8425691c93",
   "metadata": {},
   "outputs": [
    {
     "name": "stdout",
     "output_type": "stream",
     "text": [
      "Covariance between total_bill and tip: 8.3235\n"
     ]
    }
   ],
   "source": [
    "def calculate_covariance():\n",
    "    # Load the tips dataset\n",
    "    tips = sns.load_dataset(\"tips\")\n",
    "\n",
    "    # Calculate the covariance between the total_bill and tip columns\n",
    "    covariance = np.cov(tips[\"total_bill\"], tips[\"tip\"])[0, 1]\n",
    "    print(f\"Covariance between total_bill and tip: {covariance:.4f}\")\n",
    "\n",
    "calculate_covariance()"
   ]
  },
  {
   "cell_type": "markdown",
   "id": "0bfe78c1-2af0-44d6-bc6b-b59943c3fa35",
   "metadata": {},
   "source": [
    "## (iv) Implement a Python program that calculates the Pearson correlation coefficient between two columns."
   ]
  },
  {
   "cell_type": "code",
   "execution_count": 39,
   "id": "4dfc4693-4e6d-4762-bf75-bfc0a42be131",
   "metadata": {},
   "outputs": [
    {
     "name": "stdout",
     "output_type": "stream",
     "text": [
      "Pearson correlation coefficient between total_bill and tip: 0.6757\n"
     ]
    }
   ],
   "source": [
    "def calculate_pearson_correlation():\n",
    "    # Load the tips dataset\n",
    "    tips = sns.load_dataset(\"tips\")\n",
    "\n",
    "    # Calculate the Pearson correlation coefficient between the total_bill and tip columns\n",
    "    correlation_coefficient = np.corrcoef(tips[\"total_bill\"], tips[\"tip\"])[0, 1]\n",
    "    print(f\"Pearson correlation coefficient between total_bill and tip: {correlation_coefficient:.4f}\")\n",
    "\n",
    "calculate_pearson_correlation()"
   ]
  },
  {
   "cell_type": "markdown",
   "id": "630724a4-5a2c-413b-9906-00c6ddbce6eb",
   "metadata": {},
   "source": [
    "## (v) Write a script to visualize the correlation between two specific columns in a Pandas DataFrame using scatter plots."
   ]
  },
  {
   "cell_type": "code",
   "execution_count": 40,
   "id": "ba1f37a4-7f23-43c2-9c21-2ffb0a9993e5",
   "metadata": {},
   "outputs": [
    {
     "data": {
      "image/png": "[encoded data removed]",
      "text/plain": [
       "<Figure size 800x600 with 1 Axes>"
      ]
     },
     "metadata": {},
     "output_type": "display_data"
    }
   ],
   "source": [
    "def visualize_correlation():\n",
    "    # Load the tips dataset\n",
    "    tips = sns.load_dataset(\"tips\")\n",
    "\n",
    "    # Create a scatter plot to visualize the correlation between total_bill and tip\n",
    "    plt.figure(figsize=(8, 6))\n",
    "    sns.scatterplot(x=\"total_bill\", y=\"tip\", data=tips)\n",
    "\n",
    "    # Add title and labels\n",
    "    plt.title(\"Correlation between Total Bill and Tip\")\n",
    "    plt.xlabel(\"Total Bill ($)\")\n",
    "    plt.ylabel(\"Tip ($)\")\n",
    "\n",
    "    # Show the plot\n",
    "    plt.show()\n",
    "\n",
    "visualize_correlation()"
   ]
  },
  {
   "cell_type": "markdown",
   "id": "11efa9d2-e618-44bc-a855-0842f70e063f",
   "metadata": {},
   "source": [
    "# 8. Write a Python function to calculate the probability density function (PDF) of a continuous random variable for a given normal distribution."
   ]
  },
  {
   "cell_type": "code",
   "execution_count": 41,
   "id": "a798ab6b-01f3-4ba2-a87e-ba9a74621547",
   "metadata": {},
   "outputs": [
    {
     "name": "stdout",
     "output_type": "stream",
     "text": [
      "f(1.5) = 0.1295\n"
     ]
    }
   ],
   "source": [
    "def normal_pdf(x, mu, sigma):\n",
    "    if sigma <= 0:\n",
    "        raise ValueError(\"Standard deviation must be positive\")\n",
    "    return (1 / (sigma * math.sqrt(2 * math.pi))) * math.exp(-((x - mu) ** 2) / (2 * sigma ** 2))\n",
    "\n",
    "# Example usage:\n",
    "x = 1.5  # value\n",
    "mu = 0  # mean\n",
    "sigma = 1  # standard deviation\n",
    "\n",
    "probability_density = normal_pdf(x, mu, sigma)\n",
    "print(f\"f({x}) = {probability_density:.4f}\")"
   ]
  },
  {
   "cell_type": "markdown",
   "id": "bb8080d0-523b-42bd-a5ee-87cf9390bedb",
   "metadata": {},
   "source": [
    "# 9. Create a program to calculate the cumulative distribution function (CDF) of exponential distribution."
   ]
  },
  {
   "cell_type": "code",
   "execution_count": 42,
   "id": "26c708ed-0914-4ca0-b433-f9d37593d8da",
   "metadata": {},
   "outputs": [
    {
     "name": "stdout",
     "output_type": "stream",
     "text": [
      "F(2.5) = 0.9765\n"
     ]
    }
   ],
   "source": [
    "def exponential_cdf(x, lambda_):\n",
    "    if x < 0:\n",
    "        return 0\n",
    "    else:\n",
    "        return 1 - math.exp(-lambda_ * x)\n",
    "\n",
    "# Example usage:\n",
    "x = 2.5  # time or value\n",
    "lambda_ = 1.5  # rate parameter\n",
    "\n",
    "cumulative_probability = exponential_cdf(x, lambda_)\n",
    "print(f\"F({x}) = {cumulative_probability:.4f}\")"
   ]
  },
  {
   "cell_type": "markdown",
   "id": "1b792d3b-71f8-4adc-a5c1-94442b8a01a0",
   "metadata": {},
   "source": [
    "# 10. Write a Python function to calculate the probability mass function (PMF) of Poisson distribution."
   ]
  },
  {
   "cell_type": "code",
   "execution_count": 43,
   "id": "26167099-8da1-4c4d-bb97-6f20e87d51a7",
   "metadata": {},
   "outputs": [
    {
     "name": "stdout",
     "output_type": "stream",
     "text": [
      "P(5) = 0.0668\n"
     ]
    }
   ],
   "source": [
    "def poisson_pmf(k, lambda_):\n",
    "    return (math.exp(-lambda_) * (lambda_ ** k)) / math.factorial(k)\n",
    "\n",
    "# Example usage:\n",
    "k = 5  # number of events\n",
    "lambda_ = 2.5  # average rate of events\n",
    "\n",
    "probability = poisson_pmf(k, lambda_)\n",
    "print(f\"P({k}) = {probability:.4f}\")"
   ]
  },
  {
   "cell_type": "markdown",
   "id": "b1bdc3ee-46dc-46f0-88f0-1390c6a877da",
   "metadata": {},
   "source": [
    "# 11. A company wants to test if a new website layout leads to a higher conversion rate (percentage of visitors who make a purchase). They collect data from the old and new layouts to compare.\n",
    "\n",
    "\n",
    "To generate the data use the following command:\n",
    "\n",
    "```python\n",
    "\n",
    "import numpy as np\n",
    "\n",
    "# 50 purchases out of 1000 visitors\n",
    "\n",
    "old_layout = np.array([1] * 50 + [0] * 950)\n",
    "\n",
    "# 70 purchases out of 1000 visitors  \n",
    "\n",
    "new_layout = np.array([1] * 70 + [0] * 930)\n",
    "\n",
    "  ```\n",
    "\n",
    "Apply z-test to find which layout is successful."
   ]
  },
  {
   "cell_type": "code",
   "execution_count": 44,
   "id": "beb93609-8a5d-4977-bc67-54ac78102187",
   "metadata": {},
   "outputs": [],
   "source": [
    "# 50 purchases out of 1000 visitors\n",
    "old_layout = np.array([1] * 50 + [0] * 950)\n",
    "\n",
    "# 70 purchases out of 1000 visitors  \n",
    "new_layout = np.array([1] * 70 + [0] * 930)"
   ]
  },
  {
   "cell_type": "markdown",
   "id": "d76a23c4-39ab-4684-959e-8a78e6807977",
   "metadata": {},
   "source": [
    "null hypothesis (H0): p_new ≤ p_old  \n",
    " alternative hypothesis (H1): p_new > p_old"
   ]
  },
  {
   "cell_type": "code",
   "execution_count": 45,
   "id": "341cf5e8-60be-4540-8e2f-22b1a5f26412",
   "metadata": {},
   "outputs": [
    {
     "name": "stdout",
     "output_type": "stream",
     "text": [
      "Z-score: 1.883108942886774\n",
      "P-value: 0.05968560553242619\n",
      "There is no significant difference between the two layouts.\n"
     ]
    }
   ],
   "source": [
    "# Define the sample sizes\n",
    "n_old = len(old_layout)\n",
    "n_new = len(new_layout)\n",
    "\n",
    "# Calculate the sample mean\n",
    "sm_old = np.mean(old_layout)\n",
    "sm_new = np.mean(new_layout)\n",
    "\n",
    "# Calculate the total mean\n",
    "sm_total = (np.sum(old_layout) + np.sum(new_layout)) / (n_old + n_new)\n",
    "\n",
    "# Calculate the standard error\n",
    "se = np.sqrt(sm_total * (1 - sm_total) * (1 / n_old + 1 / n_new))\n",
    "\n",
    "# Calculate the z-score\n",
    "z_score = (sm_new - sm_old) / se\n",
    "\n",
    "# Calculate the p-value\n",
    "p_value = 2 * (1 - stats.norm.cdf(abs(z_score)))\n",
    "\n",
    "print(\"Z-score:\", z_score)\n",
    "print(\"P-value:\", p_value)\n",
    "\n",
    "if p_value < 0.05:\n",
    "    print(\"The new layout is significantly better than the old layout.\")\n",
    "else:\n",
    "    print(\"There is no significant difference between the two layouts.\")"
   ]
  },
  {
   "cell_type": "code",
   "execution_count": 46,
   "id": "ff418a49-9476-4321-ab87-a0ea1c78d245",
   "metadata": {},
   "outputs": [
    {
     "name": "stdout",
     "output_type": "stream",
     "text": [
      "Z-score: 1.883108942886774\n",
      "P-value: 0.05968560553242619\n",
      "There is no significant difference between the two layouts.\n"
     ]
    }
   ],
   "source": [
    "import numpy as np\n",
    "from scipy.stats import norm\n",
    "\n",
    "# Define the sample sizes\n",
    "n_old = len(old_layout)\n",
    "n_new = len(new_layout)\n",
    "\n",
    "# Calculate the sample proportions\n",
    "p_old = np.mean(old_layout)\n",
    "p_new = np.mean(new_layout)\n",
    "\n",
    "# Calculate the pooled proportion\n",
    "p_pooled = (np.sum(old_layout) + np.sum(new_layout)) / (n_old + n_new)\n",
    "\n",
    "# Calculate the standard error\n",
    "se = np.sqrt(p_pooled * (1 - p_pooled) * (1 / n_old + 1 / n_new))\n",
    "\n",
    "# Calculate the z-score\n",
    "z_score = (p_new - p_old) / se\n",
    "\n",
    "# Calculate the p-value\n",
    "p_value = 2*(1 - stats.norm.cdf(abs(z_score)))\n",
    "\n",
    "print(\"Z-score:\", z_score)\n",
    "print(\"P-value:\", p_value)\n",
    "\n",
    "if p_value < 0.05:\n",
    "    print(\"The new layout is significantly better than the old layout.\")\n",
    "else:\n",
    "    print(\"There is no significant difference between the two layouts.\")"
   ]
  },
  {
   "cell_type": "code",
   "execution_count": 47,
   "id": "f637caad-aa02-49a0-866a-f42d9e2393e4",
   "metadata": {},
   "outputs": [
    {
     "name": "stdout",
     "output_type": "stream",
     "text": [
      "Z-score: 1.883108942886774\n",
      "P-value: 0.029842802766213095\n",
      "The new layout is significantly better than the old layout.\n"
     ]
    }
   ],
   "source": [
    "import numpy as np\n",
    "from scipy.stats import norm\n",
    "\n",
    "# Define the sample sizes\n",
    "n_old = len(old_layout)\n",
    "n_new = len(new_layout)\n",
    "\n",
    "# Calculate the sample proportions\n",
    "p_old = np.mean(old_layout)\n",
    "p_new = np.mean(new_layout)\n",
    "\n",
    "# Calculate the pooled proportion\n",
    "p_pooled = (np.sum(old_layout) + np.sum(new_layout)) / (n_old + n_new)\n",
    "\n",
    "# Calculate the standard error\n",
    "se = np.sqrt(p_pooled * (1 - p_pooled) * (1 / n_old + 1 / n_new))\n",
    "\n",
    "# Calculate the z-score\n",
    "z_score = (p_new - p_old) / se\n",
    "\n",
    "# Calculate the p-value (one-tailed)\n",
    "p_value = 1 - stats.norm.cdf(z_score)\n",
    "\n",
    "print(\"Z-score:\", z_score)\n",
    "print(\"P-value:\", p_value)\n",
    "\n",
    "if p_value < 0.05:\n",
    "    print(\"The new layout is significantly better than the old layout.\")\n",
    "else:\n",
    "    print(\"There is no significant difference between the two layouts.\")"
   ]
  },
  {
   "cell_type": "markdown",
   "id": "64ef88f8-61ff-46cd-a8ea-b792c96a9ad0",
   "metadata": {},
   "source": [
    "# 12. A tutoring service claims that its program improves students' exam scores. A sample of students who participated in the program was taken, and their scores before and after the program were recorded.\n",
    "\n",
    "\n",
    "Use the below code to generate samples of respective arrays of marks:\n",
    "\n",
    "```python\n",
    "\n",
    "before_program = np.array([75, 80, 85, 70, 90, 78, 92, 88, 82, 87])\n",
    "\n",
    "after_program = np.array([80, 85, 90, 80, 92, 80, 95, 90, 85, 88])\n",
    "\n",
    "```\n",
    "\n",
    "Use z-test to find if the claims made by tutor are true or false."
   ]
  },
  {
   "cell_type": "code",
   "execution_count": 48,
   "id": "6d613dbd-1cf3-43aa-94a4-f2c1ecaa6fe4",
   "metadata": {},
   "outputs": [
    {
     "name": "stdout",
     "output_type": "stream",
     "text": [
      "Z-score: 4.593190894944668\n",
      "P-value: 2.182597052646784e-06\n",
      "The tutoring service's claims are true: the program improves students' exam scores.\n"
     ]
    }
   ],
   "source": [
    "before_program = np.array([75, 80, 85, 70, 90, 78, 92, 88, 82, 87])\n",
    "after_program = np.array([80, 85, 90, 80, 92, 80, 95, 90, 85, 88])\n",
    "\n",
    "# Calculate the differences between the scores\n",
    "differences = after_program - before_program\n",
    "\n",
    "# Calculate the mean and standard deviation of the differences\n",
    "mean_diff = np.mean(differences)\n",
    "std_diff = np.std(differences, ddof=1)  # ddof=1 for sample standard deviation\n",
    "\n",
    "# Calculate the standard error\n",
    "se = std_diff / np.sqrt(len(differences))\n",
    "\n",
    "# Calculate the z-score\n",
    "z_score = mean_diff / se\n",
    "\n",
    "# Calculate the p-value (one-tailed)\n",
    "p_value = 1 - norm.cdf(z_score)\n",
    "\n",
    "print(\"Z-score:\", z_score)\n",
    "print(\"P-value:\", p_value)\n",
    "\n",
    "if p_value < 0.05:\n",
    "    print(\"The tutoring service's claims are true: the program improves students' exam scores.\")\n",
    "else:\n",
    "    print(\"The tutoring service's claims are false: the program does not improve students' exam scores.\")"
   ]
  },
  {
   "cell_type": "code",
   "execution_count": 49,
   "id": "f824b663-c2a0-453d-9949-bbbddcbb86da",
   "metadata": {},
   "outputs": [
    {
     "data": {
      "text/plain": [
       "array([ 5,  5,  5, 10,  2,  2,  3,  2,  3,  1])"
      ]
     },
     "execution_count": 49,
     "metadata": {},
     "output_type": "execute_result"
    }
   ],
   "source": [
    "differences"
   ]
  },
  {
   "cell_type": "markdown",
   "id": "39fa0095-c35a-4103-8bbe-410b4a474273",
   "metadata": {},
   "source": [
    "# 13. A pharmaceutical company wants to determine if a new drug is effective in reducing blood pressure. They conduct a study and record blood pressure measurements before and after administering the drug.\n",
    "\n",
    "\n",
    "Use the below code to generate samples of respective arrays of blood pressure:\n",
    "\n",
    "\n",
    "```python\n",
    "\n",
    "before_drug = np.array([145, 150, 140, 135, 155, 160, 152, 148, 130, 138])\n",
    "\n",
    "after_drug = np.array([130, 140, 132, 128, 145, 148, 138, 136, 125, 130])\n",
    "\n",
    "  ```\n",
    "\n",
    "\n",
    "Implement z-test to find if the drug really works or not"
   ]
  },
  {
   "cell_type": "code",
   "execution_count": 50,
   "id": "bb3e7a3d-c430-4a2e-a831-bee0bded4ec3",
   "metadata": {},
   "outputs": [
    {
     "name": "stdout",
     "output_type": "stream",
     "text": [
      "Mean before: 145.3\n",
      "Mean after: 135.2\n",
      "Standard deviation before: 9.463966751139115\n",
      "Standard deviation after: 7.539525478731698\n",
      "Z-score: -2.639577121919448\n",
      "P-value: 0.9958495233064042\n",
      "Fail to reject null hypothesis: The drug has no effect on blood pressure.\n"
     ]
    }
   ],
   "source": [
    "before_drug = np.array([145, 150, 140, 135, 155, 160, 152, 148, 130, 138])\n",
    "after_drug = np.array([130, 140, 132, 128, 145, 148, 138, 136, 125, 130])\n",
    "\n",
    "# Calculate sample means\n",
    "mean_before = np.mean(before_drug)\n",
    "mean_after = np.mean(after_drug)\n",
    "\n",
    "# Calculate sample standard deviations\n",
    "std_before = np.std(before_drug, ddof=1)\n",
    "std_after = np.std(after_drug, ddof=1)\n",
    "\n",
    "# Calculate z-score\n",
    "n_before = len(before_drug)\n",
    "n_after = len(after_drug)\n",
    "z_score = (mean_after - mean_before) / np.sqrt((std_before**2 / n_before) + (std_after**2 / n_after))\n",
    "\n",
    "# Calculate p-value\n",
    "p_value = stats.norm.sf(z_score)\n",
    "\n",
    "print(\"Mean before:\", mean_before)\n",
    "print(\"Mean after:\", mean_after)\n",
    "print(\"Standard deviation before:\", std_before)\n",
    "print(\"Standard deviation after:\", std_after)\n",
    "print(\"Z-score:\", z_score)\n",
    "print(\"P-value:\", p_value)\n",
    "\n",
    "if p_value < 0.05:\n",
    "    print(\"Reject null hypothesis: The drug is effective in reducing blood pressure.\")\n",
    "else:\n",
    "    print(\"Fail to reject null hypothesis: The drug has no effect on blood pressure.\")"
   ]
  },
  {
   "cell_type": "markdown",
   "id": "f341986d-cdcb-4228-9311-f9b2e72098c8",
   "metadata": {},
   "source": [
    "# 14. A customer service department claims that their average response time is less than 5 minutes. A sample of recent customer interactions was taken, and the response times were recorded.\n",
    "\n",
    "\n",
    "Implement the below code to generate the array of response time:\n",
    "\n",
    "```python\n",
    "\n",
    "response_times = 3p.array([4.3, 3.8, 5.1, 4.9, 4.7, 4.2, 5.2, 4.5, 4.6, 4.4])\n",
    "\n",
    "```\n",
    "\n",
    "Implement z-test to find the claims made by customer service department are true or false."
   ]
  },
  {
   "cell_type": "code",
   "execution_count": 51,
   "id": "51810251-4742-4068-b611-e0eea87f2945",
   "metadata": {},
   "outputs": [
    {
     "name": "stdout",
     "output_type": "stream",
     "text": [
      "Mean response time: 4.57\n",
      "Standard deviation of response time: 0.4270050741306634\n",
      "Z-score: -3.184457226042963\n",
      "P-value: 0.0007251287113068958\n",
      "Reject null hypothesis: The customer service department's claim is true.\n"
     ]
    }
   ],
   "source": [
    "response_times = np.array([4.3, 3.8, 5.1, 4.9, 4.7, 4.2, 5.2, 4.5, 4.6, 4.4])\n",
    "\n",
    "# Calculate sample mean\n",
    "mean_response_time = np.mean(response_times)\n",
    "\n",
    "# Calculate sample standard deviation\n",
    "std_response_time = np.std(response_times, ddof=1)\n",
    "\n",
    "# Calculate z-score\n",
    "n = len(response_times)\n",
    "claimed_average = 5\n",
    "z_score = (mean_response_time - claimed_average) / (std_response_time / np.sqrt(n))\n",
    "\n",
    "# Calculate p-value\n",
    "p_value = stats.norm.cdf(z_score)\n",
    "\n",
    "print(\"Mean response time:\", mean_response_time)\n",
    "print(\"Standard deviation of response time:\", std_response_time)\n",
    "print(\"Z-score:\", z_score)\n",
    "print(\"P-value:\", p_value)\n",
    "\n",
    "if p_value < 0.05:\n",
    "    print(\"Reject null hypothesis: The customer service department's claim is true.\")\n",
    "else:\n",
    "    print(\"Fail to reject null hypothesis: The customer service department's claim is false.\")"
   ]
  },
  {
   "cell_type": "markdown",
   "id": "063fbdb3-ea41-415e-bf5e-ba2a75ff932f",
   "metadata": {},
   "source": [
    "# 15. A company is testing two different website layouts to see which one leads to higher click-through rates. Write a Python function to perform an A/B test analysis, including calculating the t-statistic, degrees of freedom, and p-value.\n",
    "\n",
    "\n",
    "Use the following data:\n",
    "\n",
    "```python\n",
    "\n",
    "layout_a_clicks = [28, 32, 33, 29, 31, 34, 30, 35, 36, 37]\n",
    "\n",
    "layout_b_clicks = [40, 41, 38, 42, 39, 44, 43, 41, 45, 47]"
   ]
  },
  {
   "cell_type": "code",
   "execution_count": 52,
   "id": "5f7ff546-684b-4be7-9099-2872e6db2f0f",
   "metadata": {},
   "outputs": [
    {
     "name": "stdout",
     "output_type": "stream",
     "text": [
      "Mean of Layout A: 32.5\n",
      "Mean of Layout B: 42.0\n",
      "Standard Deviation of Layout A: 3.0276503540974917\n",
      "Standard Deviation of Layout B: 2.788866755113585\n",
      "T-statistic: -7.298102156175071\n",
      "Degrees of Freedom: 18\n",
      "P-value: 8.833437608301987e-07\n",
      "Reject null hypothesis: The two layouts have significantly different click-through rates.\n"
     ]
    }
   ],
   "source": [
    "def ab_test_analysis(layout_a_clicks, layout_b_clicks):\n",
    "    # Calculate sample means\n",
    "    mean_a = np.mean(layout_a_clicks)\n",
    "    mean_b = np.mean(layout_b_clicks)\n",
    "\n",
    "    # Calculate sample standard deviations\n",
    "    std_a = np.std(layout_a_clicks, ddof=1)\n",
    "    std_b = np.std(layout_b_clicks, ddof=1)\n",
    "\n",
    "    # Perform two-sample t-test\n",
    "    t_statistic, p_value = stats.ttest_ind(layout_a_clicks, layout_b_clicks)\n",
    "\n",
    "    # Calculate degrees of freedom\n",
    "    n_a = len(layout_a_clicks)\n",
    "    n_b = len(layout_b_clicks)\n",
    "    degrees_of_freedom = n_a + n_b - 2\n",
    "\n",
    "    # Print results\n",
    "    print(\"Mean of Layout A:\", mean_a)\n",
    "    print(\"Mean of Layout B:\", mean_b)\n",
    "    print(\"Standard Deviation of Layout A:\", std_a)\n",
    "    print(\"Standard Deviation of Layout B:\", std_b)\n",
    "    print(\"T-statistic:\", t_statistic)\n",
    "    print(\"Degrees of Freedom:\", degrees_of_freedom)\n",
    "    print(\"P-value:\", p_value)\n",
    "\n",
    "    # Interpret results\n",
    "    if p_value < 0.05:\n",
    "        print(\"Reject null hypothesis: The two layouts have significantly different click-through rates.\")\n",
    "    else:\n",
    "        print(\"Fail to reject null hypothesis: The two layouts have similar click-through rates.\")\n",
    "\n",
    "# Example usage\n",
    "layout_a_clicks = [28, 32, 33, 29, 31, 34, 30, 35, 36, 37]\n",
    "layout_b_clicks = [40, 41, 38, 42, 39, 44, 43, 41, 45, 47]\n",
    "ab_test_analysis(layout_a_clicks, layout_b_clicks)"
   ]
  },
  {
   "cell_type": "markdown",
   "id": "1cd8931e-0b79-4c6d-ab38-117c40bbbf4d",
   "metadata": {},
   "source": [
    "# 16. A pharmaceutical company wants to determine if a new drug is more effective than an existing drug in reducing cholesterol levels. Create a program to analyze the clinical trial data and calculate the tstatistic and p-value for the treatment effect.\n",
    "\n",
    "\n",
    "Use the following data of cholestrol level:\n",
    "\n",
    "```python\n",
    "\n",
    "existing_drug_levels = [180, 182, 175, 185, 178, 176, 172, 184, 179, 183]\n",
    "\n",
    "new_drug_levels = [170, 172, 165, 168, 175, 173, 170, 178, 172, 176]"
   ]
  },
  {
   "cell_type": "code",
   "execution_count": 53,
   "id": "1a5ced93-03d7-44e9-a4a1-a506fdc5092f",
   "metadata": {},
   "outputs": [
    {
     "name": "stdout",
     "output_type": "stream",
     "text": [
      "Mean of Existing Drug: 179.4\n",
      "Mean of New Drug: 171.9\n",
      "Standard Deviation of Existing Drug: 4.221637386396683\n",
      "Standard Deviation of New Drug: 3.8715486421958962\n",
      "T-statistic: 4.14048098620866\n",
      "Degrees of Freedom: 18\n",
      "P-value: 0.0006143398442372505\n",
      "Reject null hypothesis: The new drug is significantly more effective than the existing drug in reducing cholesterol levels.\n"
     ]
    }
   ],
   "source": [
    "def analyze_clinical_trial(existing_drug_levels, new_drug_levels):\n",
    "    # Calculate sample means\n",
    "    mean_existing = np.mean(existing_drug_levels)\n",
    "    mean_new = np.mean(new_drug_levels)\n",
    "\n",
    "    # Calculate sample standard deviations\n",
    "    std_existing = np.std(existing_drug_levels, ddof=1)\n",
    "    std_new = np.std(new_drug_levels, ddof=1)\n",
    "\n",
    "    # Perform two-sample t-test\n",
    "    t_statistic, p_value = stats.ttest_ind(existing_drug_levels, new_drug_levels)\n",
    "\n",
    "    # Calculate degrees of freedom\n",
    "    n_existing = len(existing_drug_levels)\n",
    "    n_new = len(new_drug_levels)\n",
    "    degrees_of_freedom = n_existing + n_new - 2\n",
    "\n",
    "    # Print results\n",
    "    print(\"Mean of Existing Drug:\", mean_existing)\n",
    "    print(\"Mean of New Drug:\", mean_new)\n",
    "    print(\"Standard Deviation of Existing Drug:\", std_existing)\n",
    "    print(\"Standard Deviation of New Drug:\", std_new)\n",
    "    print(\"T-statistic:\", t_statistic)\n",
    "    print(\"Degrees of Freedom:\", degrees_of_freedom)\n",
    "    print(\"P-value:\", p_value)\n",
    "\n",
    "    # Interpret results\n",
    "    if p_value < 0.05:\n",
    "        print(\"Reject null hypothesis: The new drug is significantly more effective than the existing drug in reducing cholesterol levels.\")\n",
    "    else:\n",
    "        print(\"Fail to reject null hypothesis: The new drug is not significantly more effective than the existing drug in reducing cholesterol levels.\")\n",
    "\n",
    "# Example usage\n",
    "existing_drug_levels = [180, 182, 175, 185, 178, 176, 172, 184, 179, 183]\n",
    "new_drug_levels = [170, 172, 165, 168, 175, 173, 170, 178, 172, 176]\n",
    "analyze_clinical_trial(existing_drug_levels, new_drug_levels)"
   ]
  },
  {
   "cell_type": "markdown",
   "id": "e985c936-edce-4f6b-948c-d09924e2fa1b",
   "metadata": {},
   "source": [
    "# 17. A school district introduces an educational intervention program to improve math scores. Write a Python function to analyze pre- and post-intervention test scores, calculating the t-statistic and p-value to determine if the intervention had a significant impact.\n",
    "\n",
    "\n",
    "Use the following data of test score:\n",
    "\n",
    "\n",
    "  ```python\n",
    "\n",
    "  pre_intervention_scores = [80, 85, 90, 75, 88, 82, 92, 78, 85, 87]\n",
    "\n",
    "  post_intervention_scores = [90, 92, 88, 92, 95, 91, 96, 93, 89, 93]\n",
    "\n",
    "  ```"
   ]
  },
  {
   "cell_type": "code",
   "execution_count": 54,
   "id": "7f8af75a-57be-466e-ba0b-c9f07008d065",
   "metadata": {},
   "outputs": [
    {
     "name": "stdout",
     "output_type": "stream",
     "text": [
      "Mean of Pre-Intervention Scores: 84.2\n",
      "Mean of Post-Intervention Scores: 91.9\n",
      "Standard Deviation of Pre-Intervention Scores: 5.411920998027308\n",
      "Standard Deviation of Post-Intervention Scores: 2.514402955419481\n",
      "T-statistic: -4.42840883965761\n",
      "Degrees of Freedom: 9\n",
      "P-value: 0.0016509548165795493\n",
      "Reject null hypothesis: The intervention had a significant impact on math scores.\n"
     ]
    }
   ],
   "source": [
    "def analyze_intervention(pre_intervention_scores, post_intervention_scores):\n",
    "    # Calculate sample means\n",
    "    mean_pre = np.mean(pre_intervention_scores)\n",
    "    mean_post = np.mean(post_intervention_scores)\n",
    "\n",
    "    # Calculate sample standard deviations\n",
    "    std_pre = np.std(pre_intervention_scores, ddof=1)\n",
    "    std_post = np.std(post_intervention_scores, ddof=1)\n",
    "\n",
    "    # Perform paired t-test\n",
    "    t_statistic, p_value = stats.ttest_rel(pre_intervention_scores, post_intervention_scores)\n",
    "\n",
    "    # Calculate degrees of freedom\n",
    "    n = len(pre_intervention_scores)\n",
    "    degrees_of_freedom = n - 1\n",
    "\n",
    "    # Print results\n",
    "    print(\"Mean of Pre-Intervention Scores:\", mean_pre)\n",
    "    print(\"Mean of Post-Intervention Scores:\", mean_post)\n",
    "    print(\"Standard Deviation of Pre-Intervention Scores:\", std_pre)\n",
    "    print(\"Standard Deviation of Post-Intervention Scores:\", std_post)\n",
    "    print(\"T-statistic:\", t_statistic)\n",
    "    print(\"Degrees of Freedom:\", degrees_of_freedom)\n",
    "    print(\"P-value:\", p_value)\n",
    "\n",
    "    # Interpret results\n",
    "    if p_value < 0.05:\n",
    "        print(\"Reject null hypothesis: The intervention had a significant impact on math scores.\")\n",
    "    else:\n",
    "        print(\"Fail to reject null hypothesis: The intervention did not have a significant impact on math scores.\")\n",
    "\n",
    "# Example usage\n",
    "pre_intervention_scores = [80, 85, 90, 75, 88, 82, 92, 78, 85, 87]\n",
    "post_intervention_scores = [90, 92, 88, 92, 95, 91, 96, 93, 89, 93]\n",
    "analyze_intervention(pre_intervention_scores, post_intervention_scores)"
   ]
  },
  {
   "cell_type": "markdown",
   "id": "16a40f00-f09f-4b5b-8bef-6b5cb0525c8d",
   "metadata": {},
   "source": [
    "# 18. An HR department wants to investigate if there's a gender-based salary gap within the company. Develop a program to analyze salary data, calculate the t-statistic, and determine if there's a statistically significant difference between the average salaries of male and female employees.\n",
    "\n",
    "\n",
    "Use the below code to generate synthetic data.\n",
    "```python\n",
    "\n",
    "Generate synthetic salary data for male and female employees\n",
    "\n",
    "np.random.seed(0)  # For reproducibility\n",
    "\n",
    "male_salaries = np.random.normal(loc=50000, scale=10000, size=20)\n",
    "\n",
    "female_salaries = np.random.normal(loc=55000, scale=9000, size=20)"
   ]
  },
  {
   "cell_type": "code",
   "execution_count": 55,
   "id": "d198af65-5d2c-4ea2-a006-8fb7cae0cd7d",
   "metadata": {},
   "outputs": [
    {
     "name": "stdout",
     "output_type": "stream",
     "text": [
      "Mean Salary of Male Employees: 55693.345929456365\n",
      "Mean Salary of Female Employees: 55501.753181380416\n",
      "Standard Deviation of Male Salaries: 8722.691485249854\n",
      "Standard Deviation of Female Salaries: 10968.104612042216\n",
      "T-statistic: 0.06114208969631383\n",
      "Degrees of Freedom: 38\n",
      "P-value: 0.9515665020676465\n",
      "Fail to reject null hypothesis: There is no statistically significant difference between the average salaries of male and female employees.\n"
     ]
    }
   ],
   "source": [
    "# Generate synthetic salary data for male and female employees\n",
    "np.random.seed(0)  # For reproducibility\n",
    "\n",
    "male_salaries = np.random.normal(loc=50000, scale=10000, size=20)\n",
    "female_salaries = np.random.normal(loc=55000, scale=9000, size=20)\n",
    "\n",
    "def analyze_salary_gap(male_salaries, female_salaries):\n",
    "    # Calculate sample means\n",
    "    mean_male = np.mean(male_salaries)\n",
    "    mean_female = np.mean(female_salaries)\n",
    "\n",
    "    # Calculate sample standard deviations\n",
    "    std_male = np.std(male_salaries, ddof=1)\n",
    "    std_female = np.std(female_salaries, ddof=1)\n",
    "\n",
    "    # Perform two-sample t-test\n",
    "    t_statistic, p_value = stats.ttest_ind(male_salaries, female_salaries)\n",
    "\n",
    "    # Calculate degrees of freedom\n",
    "    n_male = len(male_salaries)\n",
    "    n_female = len(female_salaries)\n",
    "    degrees_of_freedom = n_male + n_female - 2\n",
    "\n",
    "    # Print results\n",
    "    print(\"Mean Salary of Male Employees:\", mean_male)\n",
    "    print(\"Mean Salary of Female Employees:\", mean_female)\n",
    "    print(\"Standard Deviation of Male Salaries:\", std_male)\n",
    "    print(\"Standard Deviation of Female Salaries:\", std_female)\n",
    "    print(\"T-statistic:\", t_statistic)\n",
    "    print(\"Degrees of Freedom:\", degrees_of_freedom)\n",
    "    print(\"P-value:\", p_value)\n",
    "\n",
    "    # Interpret results\n",
    "    if p_value < 0.05:\n",
    "        print(\"Reject null hypothesis: There is a statistically significant difference between the average salaries of male and female employees.\")\n",
    "    else:\n",
    "        print(\"Fail to reject null hypothesis: There is no statistically significant difference between the average salaries of male and female employees.\")\n",
    "\n",
    "# Example usage\n",
    "analyze_salary_gap(male_salaries, female_salaries)"
   ]
  },
  {
   "cell_type": "markdown",
   "id": "2a03215a-59ef-4090-84fa-e4b6bbda6157",
   "metadata": {},
   "source": [
    "# 19. A manufacturer produces two different versions of a product and wants to compare their quality scores. Create a Python function to analyze quality assessment data, calculate the t-statistic, and decide whether there's a significant difference in quality between the two versions.\n",
    "\n",
    "\n",
    "Use the following data.\n",
    "```python\n",
    "\n",
    "version1_scores = [85, 88, 82, 89, 87, 84, 90, 88, 85, 86, 91, 83, 87, 84, 89, 86, 84, 88, 85, 86, 89, 90, 87, 88, 85]\n",
    "\n",
    "version2_scores = [80, 78, 83, 81, 79, 82, 76, 80, 78, 81, 77, 82, 80, 79, 82, 79, 80, 81, 79, 82, 79, 78, 80, 81, 82]\n",
    "\n",
    "```"
   ]
  },
  {
   "cell_type": "code",
   "execution_count": 56,
   "id": "d745f5ef-bd1e-43db-beeb-a5d67debd0d8",
   "metadata": {},
   "outputs": [
    {
     "name": "stdout",
     "output_type": "stream",
     "text": [
      "Mean Quality Score of Version 1: 86.64\n",
      "Mean Quality Score of Version 2: 79.96\n",
      "Standard Deviation of Version 1 Scores: 2.3607908279501033\n",
      "Standard Deviation of Version 2 Scores: 1.767295485574875\n",
      "T-statistic: 11.325830417646698\n",
      "Degrees of Freedom: 48\n",
      "P-value: 3.6824250702873965e-15\n",
      "Reject null hypothesis: There is a statistically significant difference in quality between the two versions.\n"
     ]
    }
   ],
   "source": [
    "def analyze_quality(version1_scores, version2_scores):\n",
    "    # Calculate sample means\n",
    "    mean_version1 = np.mean(version1_scores)\n",
    "    mean_version2 = np.mean(version2_scores)\n",
    "\n",
    "    # Calculate sample standard deviations\n",
    "    std_version1 = np.std(version1_scores, ddof=1)\n",
    "    std_version2 = np.std(version2_scores, ddof=1)\n",
    "\n",
    "    # Perform two-sample t-test\n",
    "    t_statistic, p_value = stats.ttest_ind(version1_scores, version2_scores)\n",
    "\n",
    "    # Calculate degrees of freedom\n",
    "    n_version1 = len(version1_scores)\n",
    "    n_version2 = len(version2_scores)\n",
    "    degrees_of_freedom = n_version1 + n_version2 - 2\n",
    "\n",
    "    # Print results\n",
    "    print(\"Mean Quality Score of Version 1:\", mean_version1)\n",
    "    print(\"Mean Quality Score of Version 2:\", mean_version2)\n",
    "    print(\"Standard Deviation of Version 1 Scores:\", std_version1)\n",
    "    print(\"Standard Deviation of Version 2 Scores:\", std_version2)\n",
    "    print(\"T-statistic:\", t_statistic)\n",
    "    print(\"Degrees of Freedom:\", degrees_of_freedom)\n",
    "    print(\"P-value:\", p_value)\n",
    "\n",
    "    # Interpret results\n",
    "    if p_value < 0.05:\n",
    "        print(\"Reject null hypothesis: There is a statistically significant difference in quality between the two versions.\")\n",
    "    else:\n",
    "        print(\"Fail to reject null hypothesis: There is no statistically significant difference in quality between the two versions.\")\n",
    "\n",
    "# Example usage\n",
    "version1_scores = [85, 88, 82, 89, 87, 84, 90, 88, 85, 86, 91, 83, 87, 84, 89, 86, 84, 88, 85, 86, 89, 90, 87, 88, 85]\n",
    "version2_scores = [80, 78, 83, 81, 79, 82, 76, 80, 78, 81, 77, 82, 80, 79, 82, 79, 80, 81, 79, 82, 79, 78, 80, 81, 82]\n",
    "analyze_quality(version1_scores, version2_scores)"
   ]
  },
  {
   "cell_type": "markdown",
   "id": "e8b89ebd-804a-411b-bd04-70407ad2f207",
   "metadata": {},
   "source": [
    "# 20. A restaurant chain collects customer satisfaction scores for two different branches. Write a program to analyze the scores, calculate the t-statistic, and determine if there's a statistically significant difference in customer satisfaction between the branches.\n",
    "\n",
    "\n",
    "Use the below data of scores:\n",
    "\n",
    "  ```python\n",
    "\n",
    "branch_a_scores = [4, 5, 3, 4, 5, 4, 5, 3, 4, 4, 5, 4, 4, 3, 4, 5, 5, 4, 3, 4, 5, 4, 3, 5, 4, 4, 5, 3, 4, 5, 4]\n",
    "\n",
    "branch_b_scores = [3, 4, 2, 3, 4, 3, 4, 2, 3, 3, 4, 3, 3, 2, 3, 4, 4, 3, 2, 3, 4, 3, 2, 4, 3, 3, 4, 2, 3, 4, 3]"
   ]
  },
  {
   "cell_type": "code",
   "execution_count": 57,
   "id": "07c564d5-48c7-4923-8fab-193202881de1",
   "metadata": {},
   "outputs": [
    {
     "name": "stdout",
     "output_type": "stream",
     "text": [
      "Mean Customer Satisfaction Score of Branch A: 4.129032258064516\n",
      "Mean Customer Satisfaction Score of Branch B: 3.129032258064516\n",
      "Standard Deviation of Branch A Scores: 0.7184212081070998\n",
      "Standard Deviation of Branch B Scores: 0.7184212081070998\n",
      "T-statistic: 5.480077554195743\n",
      "Degrees of Freedom: 60\n",
      "P-value: 8.895290509945655e-07\n",
      "Reject null hypothesis: There is a statistically significant difference in customer satisfaction between the two branches.\n"
     ]
    }
   ],
   "source": [
    "def analyze_customer_satisfaction(branch_a_scores, branch_b_scores):\n",
    "    # Calculate sample means\n",
    "    mean_branch_a = np.mean(branch_a_scores)\n",
    "    mean_branch_b = np.mean(branch_b_scores)\n",
    "\n",
    "    # Calculate sample standard deviations\n",
    "    std_branch_a = np.std(branch_a_scores, ddof=1)\n",
    "    std_branch_b = np.std(branch_b_scores, ddof=1)\n",
    "\n",
    "    # Perform two-sample t-test\n",
    "    t_statistic, p_value = stats.ttest_ind(branch_a_scores, branch_b_scores)\n",
    "\n",
    "    # Calculate degrees of freedom\n",
    "    n_branch_a = len(branch_a_scores)\n",
    "    n_branch_b = len(branch_b_scores)\n",
    "    degrees_of_freedom = n_branch_a + n_branch_b - 2\n",
    "\n",
    "    # Print results\n",
    "    print(\"Mean Customer Satisfaction Score of Branch A:\", mean_branch_a)\n",
    "    print(\"Mean Customer Satisfaction Score of Branch B:\", mean_branch_b)\n",
    "    print(\"Standard Deviation of Branch A Scores:\", std_branch_a)\n",
    "    print(\"Standard Deviation of Branch B Scores:\", std_branch_b)\n",
    "    print(\"T-statistic:\", t_statistic)\n",
    "    print(\"Degrees of Freedom:\", degrees_of_freedom)\n",
    "    print(\"P-value:\", p_value)\n",
    "\n",
    "    # Interpret results\n",
    "    if p_value < 0.05:\n",
    "        print(\"Reject null hypothesis: There is a statistically significant difference in customer satisfaction between the two branches.\")\n",
    "    else:\n",
    "        print(\"Fail to reject null hypothesis: There is no statistically significant difference in customer satisfaction between the two branches.\")\n",
    "\n",
    "# Example usage\n",
    "branch_a_scores = [4, 5, 3, 4, 5, 4, 5, 3, 4, 4, 5, 4, 4, 3, 4, 5, 5, 4, 3, 4, 5, 4, 3, 5, 4, 4, 5, 3, 4, 5, 4]\n",
    "branch_b_scores = [3, 4, 2, 3, 4, 3, 4, 2, 3, 3, 4, 3, 3, 2, 3, 4, 4, 3, 2, 3, 4, 3, 2, 4, 3, 3, 4, 2, 3, 4, 3]\n",
    "analyze_customer_satisfaction(branch_a_scores, branch_b_scores)"
   ]
  },
  {
   "cell_type": "markdown",
   "id": "d80dc844-cb07-465a-b8d7-a1ad3d4e97b6",
   "metadata": {},
   "source": [
    "# 21. A political analyst wants to determine if there is a significant association between age groups and voter preferences (Candidate A or Candidate B). They collect data from a sample of 500 voters and classify them into different age groups and candidate preferences. Perform a Chi-Square test to determine if there is a significant association between age groups and voter pre@erences.\n",
    "\n",
    "Use the below code to generate data:\n",
    "\n",
    "```python\n",
    "\n",
    "np.random.seed(0)\n",
    "\n",
    "age_groups = np.random.choice([ 18 30 , 31 50 , 51+', 51+'], size=30)\n",
    "\n",
    "voter_preferences = np.random.choice(['Candidate A', 'Candidate B'], size=30)"
   ]
  },
  {
   "cell_type": "code",
   "execution_count": 58,
   "id": "df7225a1-e71f-4e11-93fe-019218b9f5bd",
   "metadata": {},
   "outputs": [
    {
     "name": "stdout",
     "output_type": "stream",
     "text": [
      "Contingency Table:\n",
      "col_0  Candidate A  Candidate B\n",
      "row_0                          \n",
      "18-30           95           87\n",
      "31-50           87           82\n",
      "51+             84           65\n",
      "\n",
      "Chi-Square Statistic: 0.8779923945254768\n",
      "Degrees of Freedom: 2\n",
      "P-value: 0.6446832311860852\n",
      "Fail to reject null hypothesis: There is no statistically significant association between age groups and voter preferences.\n"
     ]
    }
   ],
   "source": [
    "# Generate data\n",
    "np.random.seed(0)\n",
    "age_groups = np.random.choice(['18-30', '31-50', '51+'], size=500)\n",
    "voter_preferences = np.random.choice(['Candidate A', 'Candidate B'], size=500)\n",
    "\n",
    "# Create a contingency table\n",
    "contingency_table = pd.crosstab(age_groups, voter_preferences)\n",
    "\n",
    "# Perform Chi-Square test\n",
    "chi2, p, dof, expected = stats.chi2_contingency(contingency_table)\n",
    "\n",
    "# Print results\n",
    "print(\"Contingency Table:\")\n",
    "print(contingency_table)\n",
    "print(\"\\nChi-Square Statistic:\", chi2)\n",
    "print(\"Degrees of Freedom:\", dof)\n",
    "print(\"P-value:\", p)\n",
    "\n",
    "# Interpret results\n",
    "if p < 0.05:\n",
    "    print(\"Reject null hypothesis: There is a statistically significant association between age groups and voter preferences.\")\n",
    "else:\n",
    "    print(\"Fail to reject null hypothesis: There is no statistically significant association between age groups and voter preferences.\")"
   ]
  },
  {
   "cell_type": "markdown",
   "id": "f8546c44-cff8-41ed-b3ed-79864a254490",
   "metadata": {},
   "source": [
    "# 22. A company conducted a customer satisfaction survey to determine if there is a significant relationship between product satisfaction levels (Satisfied, Neutral, Dissatisfied) and the region where customers are located (East, West, North, South). The survey data is summarized in a contingency table. Conduct a ChiSquare test to determine if there is a significant relationship between product satisfaction levels and customer regions.\n",
    "\n",
    "\n",
    "Sample data:\n",
    "\n",
    "```python\n",
    "\n",
    "#Sample data: Product satisfaction levels (rows) vs. Customer regions (columns)\n",
    "\n",
    "data = np.array([[50, 30, 40, 20], [30, 40, 30, 50], [20, 30, 40, 30]])\n",
    "\n",
    "```"
   ]
  },
  {
   "cell_type": "code",
   "execution_count": 59,
   "id": "6de019be-cbed-4403-9ae4-c64a86474478",
   "metadata": {},
   "outputs": [
    {
     "name": "stdout",
     "output_type": "stream",
     "text": [
      "Contingency Table:\n",
      "[[50 30 40 20]\n",
      " [30 40 30 50]\n",
      " [20 30 40 30]]\n",
      "\n",
      "Chi-Square Statistic: 27.777056277056275\n",
      "Degrees of Freedom: 6\n",
      "P-value: 0.00010349448486004387\n",
      "Reject null hypothesis: There is a statistically significant relationship between product satisfaction levels and customer regions.\n"
     ]
    }
   ],
   "source": [
    "# Sample data: Product satisfaction levels (rows) vs. Customer regions (columns)\n",
    "data = np.array([[50, 30, 40, 20], [30, 40, 30, 50], [20, 30, 40, 30]])\n",
    "\n",
    "# Perform Chi-Square test\n",
    "chi2, p, dof, expected = stats.chi2_contingency(data)\n",
    "\n",
    "# Print results\n",
    "print(\"Contingency Table:\")\n",
    "print(data)\n",
    "print(\"\\nChi-Square Statistic:\", chi2)\n",
    "print(\"Degrees of Freedom:\", dof)\n",
    "print(\"P-value:\", p)\n",
    "\n",
    "# Interpret results\n",
    "if p < 0.05:\n",
    "    print(\"Reject null hypothesis: There is a statistically significant relationship between product satisfaction levels and customer regions.\")\n",
    "else:\n",
    "    print(\"Fail to reject null hypothesis: There is no statistically significant relationship between product satisfaction levels and customer regions.\")"
   ]
  },
  {
   "cell_type": "markdown",
   "id": "56a7b1ac-8742-4eb2-9711-94dbaa1fd975",
   "metadata": {},
   "source": [
    "#  23. A company implemented an employee training program to improve job performance (Effective, Neutral, Ineffective). After the training, they collected data from a sample of employees and classified them based on their job performance before and after the training. Perform a Chi-Square test to determine if there is a significant difference between job performance levels before and after the training.\n",
    "\n",
    "\n",
    "Sample data:\n",
    "\n",
    "```python\n",
    "\n",
    "# Sample data: Job performance levels before (rows) and after (columns) training\n",
    "\n",
    "data = np.array([[50, 30, 20], [30, 40, 30], [20, 30, 40]])\n",
    "\n",
    "```"
   ]
  },
  {
   "cell_type": "code",
   "execution_count": 60,
   "id": "edd9d74b-12ca-48da-94d9-df0af76fa192",
   "metadata": {},
   "outputs": [
    {
     "name": "stdout",
     "output_type": "stream",
     "text": [
      "Contingency Table:\n",
      "[[50 30 20]\n",
      " [30 40 30]\n",
      " [20 30 40]]\n",
      "\n",
      "Chi-Square Statistic: 22.161728395061726\n",
      "Degrees of Freedom: 4\n",
      "P-value: 0.00018609719479882557\n",
      "Reject null hypothesis: There is a statistically significant difference between job performance levels before and after the training.\n"
     ]
    }
   ],
   "source": [
    "# Sample data: Job performance levels before (rows) and after (columns) training\n",
    "data = np.array([[50, 30, 20], [30, 40, 30], [20, 30, 40]])\n",
    "\n",
    "# Perform Chi-Square test\n",
    "chi2, p, dof, expected = stats.chi2_contingency(data)\n",
    "\n",
    "# Print results\n",
    "print(\"Contingency Table:\")\n",
    "print(data)\n",
    "print(\"\\nChi-Square Statistic:\", chi2)\n",
    "print(\"Degrees of Freedom:\", dof)\n",
    "print(\"P-value:\", p)\n",
    "\n",
    "# Interpret results\n",
    "if p < 0.05:\n",
    "    print(\"Reject null hypothesis: There is a statistically significant difference between job performance levels before and after the training.\")\n",
    "else:\n",
    "    print(\"Fail to reject null hypothesis: There is no statistically significant difference between job performance levels before and after the training.\")"
   ]
  },
  {
   "cell_type": "markdown",
   "id": "7d2ffa92-9bed-4a97-a4f8-229904870871",
   "metadata": {},
   "source": [
    "#  24. A company produces three different versions of a product: Standard, Premium, and Deluxe. The company wants to determine if there is a significant difference in customer satisfaction scores among the three product versions. They conducted a survey and collected customer satisfaction scores for each version from a random sample of customers. Perform an ANOVA test to determine if there is a significant difference in customer satisfaction scores.\n",
    "\n",
    "\n",
    "Use the following data:\n",
    "\n",
    "```python\n",
    "\n",
    "# Sample data: Customer satisfaction scores for each product version\n",
    "\n",
    "standard_scores = [80, 85, 90, 78, 88, 82, 92, 78, 85, 87]\n",
    "\n",
    "premium_scores = [90, 92, 88, 92, 95, 91, 96, 93, 89, 93]\n",
    "\n",
    "deluxe_scores = [95, 98, 92, 97, 96, 94, 98, 97, 92, 99]\n",
    "```"
   ]
  },
  {
   "cell_type": "code",
   "execution_count": 61,
   "id": "2f93e102-995a-4673-a04c-32cfaeccf513",
   "metadata": {},
   "outputs": [
    {
     "name": "stdout",
     "output_type": "stream",
     "text": [
      "ANOVA Test Results:\n",
      "F-statistic: 27.03556231003039\n",
      "P-value: 3.5786328857349003e-07\n",
      "Reject null hypothesis: There is a statistically significant difference in customer satisfaction scores among the three product versions.\n"
     ]
    }
   ],
   "source": [
    "# Sample data: Customer satisfaction scores for each product version\n",
    "standard_scores = [80, 85, 90, 78, 88, 82, 92, 78, 85, 87]\n",
    "premium_scores = [90, 92, 88, 92, 95, 91, 96, 93, 89, 93]\n",
    "deluxe_scores = [95, 98, 92, 97, 96, 94, 98, 97, 92, 99]\n",
    "\n",
    "# Perform ANOVA test\n",
    "f_stat, p_val = stats.f_oneway(standard_scores, premium_scores, deluxe_scores)\n",
    "\n",
    "# Print results\n",
    "print(\"ANOVA Test Results:\")\n",
    "print(\"F-statistic:\", f_stat)\n",
    "print(\"P-value:\", p_val)\n",
    "\n",
    "# Interpret results\n",
    "if p_val < 0.05:\n",
    "    print(\"Reject null hypothesis: There is a statistically significant difference in customer satisfaction scores among the three product versions.\")\n",
    "else:\n",
    "    print(\"Fail to reject null hypothesis: There is no statistically significant difference in customer satisfaction scores among the three product versions.\")"
   ]
  }
 ],
 "metadata": {
  "kernelspec": {
   "display_name": "Python 3 (ipykernel)",
   "language": "python",
   "name": "python3"
  },
  "language_info": {
   "codemirror_mode": {
    "name": "ipython",
    "version": 3
   },
   "file_extension": ".py",
   "mimetype": "text/x-python",
   "name": "python",
   "nbconvert_exporter": "python",
   "pygments_lexer": "ipython3",
   "version": "3.10.8"
  }
 },
 "nbformat": 4,
 "nbformat_minor": 5
}
